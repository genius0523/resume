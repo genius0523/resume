{
 "cells": [
  {
   "cell_type": "code",
   "execution_count": 2,
   "id": "161d40b6-0819-4606-9f2b-952c016df40c",
   "metadata": {},
   "outputs": [],
   "source": [
    "import pandas as pd\n",
    "import tushare as ts\n",
    "import numpy as np"
   ]
  },
  {
   "cell_type": "code",
   "execution_count": 3,
   "id": "482041e1-0e60-44b9-85d8-f86c004b1d29",
   "metadata": {},
   "outputs": [],
   "source": [
    "pro = ts.pro_api()"
   ]
  },
  {
   "cell_type": "code",
   "execution_count": 4,
   "id": "cb2db4bf-724e-4574-8909-d503cb29cc91",
   "metadata": {},
   "outputs": [],
   "source": [
    "#从tushare读取数据\n",
    "\n",
    "df_0828 = pro.daily(trade_date='20230828')\n",
    "df_0829 = pro.daily(trade_date='20230829')\n",
    "df_0830 = pro.daily(trade_date='20230830')\n",
    "df_0831 = pro.daily(trade_date='20230831')\n",
    "df_0901 = pro.daily(trade_date='20230901')\n",
    "\n",
    "df_0904 = pro.daily(trade_date='20230904')\n",
    "df_0905 = pro.daily(trade_date='20230905')\n",
    "df_0906 = pro.daily(trade_date='20230906')\n",
    "df_0907 = pro.daily(trade_date='20230907')\n",
    "df_0908 = pro.daily(trade_date='20230908')\n",
    "\n",
    "df = pd.concat([df_0828,df_0829,df_0830,df_0831,df_0901,df_0904,df_0905,df_0906,df_0907,df_0908],axis=0)"
   ]
  },
  {
   "cell_type": "code",
   "execution_count": 6,
   "id": "2103f2c3-3b39-41b0-bb90-72573def55e1",
   "metadata": {},
   "outputs": [],
   "source": [
    "        suspend_0828 = pro.query('suspend', ts_code='', suspend_date='20230828', resume_date='', fields='')\n",
    "        resume_0828 = pro.query('suspend', ts_code='', suspend_date='', resume_date='20230828', fields='')\n",
    "        \n",
    "        suspend_0829 = pro.query('suspend', ts_code='', suspend_date='20230829', resume_date='', fields='')\n",
    "        resume_0829 = pro.query('suspend', ts_code='', suspend_date='', resume_date='20230829', fields='')\n",
    "        \n",
    "        suspend_0830 = pro.query('suspend', ts_code='', suspend_date='20230830', resume_date='', fields='')\n",
    "        resume_0830 = pro.query('suspend', ts_code='', suspend_date='', resume_date='20230830', fields='')\n",
    "        \n",
    "        suspend_0831 = pro.query('suspend', ts_code='', suspend_date='20230831', resume_date='', fields='')\n",
    "        resume_0831 = pro.query('suspend', ts_code='', suspend_date='', resume_date='20230831', fields='')\n",
    "        \n",
    "        suspend_0901 = pro.query('suspend', ts_code='', suspend_date='20230901', resume_date='', fields='')\n",
    "        resume_0901 = pro.query('suspend', ts_code='', suspend_date='', resume_date='20230901', fields='')\n",
    "        \n",
    "        suspend_0904 = pro.query('suspend', ts_code='', suspend_date='20230904', resume_date='', fields='')\n",
    "        resume_0904 = pro.query('suspend', ts_code='', suspend_date='', resume_date='20230904', fields='')\n",
    "        \n",
    "        suspend_0905 = pro.query('suspend', ts_code='', suspend_date='20230905', resume_date='', fields='')\n",
    "        resume_0905 = pro.query('suspend', ts_code='', suspend_date='', resume_date='20230905', fields='')\n",
    "        \n",
    "        suspend_0906 = pro.query('suspend', ts_code='', suspend_date='20230906', resume_date='', fields='')\n",
    "        resume_0906 = pro.query('suspend', ts_code='', suspend_date='', resume_date='20230906', fields='')\n",
    "        \n",
    "        suspend_0907 = pro.query('suspend', ts_code='', suspend_date='20230907', resume_date='', fields='')\n",
    "        resume_0907 = pro.query('suspend', ts_code='', suspend_date='', resume_date='20230907', fields='')\n",
    "        \n",
    "        suspend_0908 = pro.query('suspend', ts_code='', suspend_date='20230908', resume_date='', fields='')\n",
    "        resume_0908 = pro.query('suspend', ts_code='', suspend_date='', resume_date='20230908', fields='')\n",
    "        \n",
    "        suspend = pd.concat([suspend_0828,suspend_0829,suspend_0830,suspend_0831,suspend_0901,suspend_0904,suspend_0905,suspend_0906,suspend_0907,suspend_0908])[['ts_code','suspend_date']]\n",
    "        resume = pd.concat([resume_0828,resume_0829,resume_0830,resume_0831,resume_0901,resume_0904,resume_0905,resume_0906,resume_0907,resume_0908])[['ts_code','resume_date']]\n"
   ]
  },
  {
   "cell_type": "code",
   "execution_count": 9,
   "id": "ef59e281-846d-4aa4-bdca-c6518f1c79c3",
   "metadata": {},
   "outputs": [],
   "source": [
    "suspend['suspend_type'] = 'S'\n",
    "resume['suspend_type'] = 'R'\n",
    "\n",
    "suspend.rename(columns={'suspend_date': 'date','ts_code':'asset'}, inplace=True)\n",
    "resume.rename(columns={'resume_date': 'date','ts_code':'asset'}, inplace=True)\n",
    "\n",
    "suspend_df = pd.concat([suspend,resume],ignore_index=True)"
   ]
  },
  {
   "cell_type": "code",
   "execution_count": 6,
   "id": "f5c1e0fe-5000-450d-95ae-f239e67e1d4e",
   "metadata": {},
   "outputs": [],
   "source": [
    "#修改股票代码格式\n",
    "ls = []\n",
    "ts_code = []\n",
    "for i in suspend_df['asset'].values:\n",
    "    ls = i.split('.')\n",
    "    if ls[1] == 'SZ':\n",
    "        ls[1] = 'XSHE'\n",
    "    elif ls[1] == 'SH':\n",
    "        ls[1] = 'XSHG'\n",
    "    else:\n",
    "        ls[1] = ''\n",
    "    ts_code.append(ls[0]+'.'+ls[1])\n",
    "\n",
    "suspend_df['asset'] = ts_code\n",
    "suspend_df['date'] = suspend_df['date'].astype('int64')"
   ]
  },
  {
   "cell_type": "code",
   "execution_count": 7,
   "id": "e2c4b7d4-c48a-4710-a2a6-acbfc2f1599d",
   "metadata": {},
   "outputs": [],
   "source": [
    "#修改股票代码格式\n",
    "ls = []\n",
    "ts_code = []\n",
    "for i in df['ts_code'].values:\n",
    "    ls = i.split('.')\n",
    "    if ls[1] == 'SZ':\n",
    "        ls[1] = 'XSHE'\n",
    "    else:\n",
    "        ls[1] = 'XSHG'\n",
    "    ts_code.append(ls[0]+'.'+ls[1])\n",
    "\n",
    "df['ts_code'] = ts_code\n",
    "df.rename(columns={'trade_date': 'date','ts_code':'asset'}, inplace=True)"
   ]
  },
  {
   "cell_type": "code",
   "execution_count": 8,
   "id": "accc91ef-290f-4d29-b076-f20c6a36f8ac",
   "metadata": {},
   "outputs": [],
   "source": [
    "#将两个数据的date转换为同一格式\n",
    "df['date'] = df['date'].astype('int64')"
   ]
  },
  {
   "cell_type": "code",
   "execution_count": 9,
   "id": "3cbcb233-c635-4c55-b811-a4b1dbcb8eef",
   "metadata": {},
   "outputs": [],
   "source": [
    "#取出要用的列\n",
    "df = df[['asset','date','close','pre_close']]"
   ]
  },
  {
   "cell_type": "code",
   "execution_count": 10,
   "id": "932d8c95-8e4d-4b93-90c7-b16be68d2d1a",
   "metadata": {},
   "outputs": [],
   "source": [
    "#读取权重数据\n",
    "weight_data = pd.read_csv('/Users/eren/Desktop/Code/0904data.csv')"
   ]
  },
  {
   "cell_type": "code",
   "execution_count": 11,
   "id": "569c84e6-8c1a-4857-b81c-d8d9be876f4d",
   "metadata": {},
   "outputs": [],
   "source": [
    "#合并数据，使权重与股票信息合并\n",
    "dff = df.merge(weight_data, on=['date','asset'], how='right')"
   ]
  },
  {
   "cell_type": "code",
   "execution_count": 12,
   "id": "85844046-119d-4e6f-ae0c-da3a4f21b3f3",
   "metadata": {},
   "outputs": [],
   "source": [
    "dff = dff.merge(suspend_df, on=['date','asset'], how='left')"
   ]
  },
  {
   "cell_type": "code",
   "execution_count": 13,
   "id": "81f5cf0e-3e82-4361-a619-060f8fdfce98",
   "metadata": {},
   "outputs": [],
   "source": [
    "dff.drop(dff[dff['weight'] == 0].index, inplace=True)\n",
    "\n",
    "\n",
    "# 股票停牌、退市处理\n",
    "groups = dff.groupby('asset')\n",
    "groups_ready = []\n",
    "for stock_key, stock_data in groups:\n",
    "    # 初始时间段，股票停牌处理\n",
    "    stock_data = stock_data.reset_index(drop=True)\n",
    "    first_valid_index = stock_data['close'].first_valid_index()\n",
    "    stock_data.drop(stock_data[stock_data.index < first_valid_index].index, inplace=True)\n",
    "    stock_data = stock_data.reset_index(drop=True)\n",
    "\n",
    "    # 股票退市处理\n",
    "    close_last_valid_index = stock_data['close'].last_valid_index()\n",
    "    suspend_type_last_valid_index = stock_data['suspend_type'].last_valid_index()\n",
    "    if suspend_type_last_valid_index:\n",
    "        if suspend_type_last_valid_index > close_last_valid_index:\n",
    "            last_index = suspend_type_last_valid_index + 1\n",
    "            stock_data.drop(stock_data[stock_data.index > last_index].index, inplace=True)\n",
    "            stock_data.loc[last_index, 'pre_close'] = 1\n",
    "            stock_data.loc[last_index, 'close'] = 0\n",
    "\n",
    "    stock_data.drop('suspend_type', axis=1, inplace=True)\n",
    "    groups_ready.append(stock_data)\n",
    "\n",
    "# 合并时处理所有待处理的停牌股票\n",
    "right_data = pd.concat(groups_ready).sort_values(by='date', ascending=True).fillna(1).reset_index(drop=True)\n",
    "\n",
    "\n",
    "# 再次权重归一化\n",
    "to_normalize_groups = right_data.groupby('date')\n",
    "normalized_groups = []\n",
    "for name, group in to_normalize_groups:\n",
    "    group.loc[group['weight'] < 0, 'weight'] = 0\n",
    "    group['weight'] = group['weight'] / group['weight'].sum()\n",
    "    # 调整，以确保权重和在指定精度范围内\n",
    "    while True:\n",
    "        sum_normalized = group['weight'].sum()\n",
    "        if sum_normalized < 0.99999:\n",
    "            adjustment_factor = 0.99999 / sum_normalized\n",
    "            group['weight'] *= adjustment_factor\n",
    "        elif sum_normalized > 1.00001:\n",
    "            adjustment_factor = 1.00001 / sum_normalized\n",
    "            group['weight'] *= adjustment_factor\n",
    "        else:\n",
    "            break\n",
    "\n",
    "    normalized_groups.append(group)\n",
    "normalized_index = pd.concat(normalized_groups)\n",
    "\n",
    "# 创造pre_weight列\n",
    "normalized_index['pre_weight'] = normalized_index.groupby('asset')['weight'].shift(1)\n",
    "normalized_index.fillna(0,inplace=True)"
   ]
  },
  {
   "cell_type": "code",
   "execution_count": 14,
   "id": "dcdbf00a-6dd5-4046-b76f-5b88ea52ceb1",
   "metadata": {},
   "outputs": [
    {
     "data": {
      "text/html": [
       "<div>\n",
       "<style scoped>\n",
       "    .dataframe tbody tr th:only-of-type {\n",
       "        vertical-align: middle;\n",
       "    }\n",
       "\n",
       "    .dataframe tbody tr th {\n",
       "        vertical-align: top;\n",
       "    }\n",
       "\n",
       "    .dataframe thead th {\n",
       "        text-align: right;\n",
       "    }\n",
       "</style>\n",
       "<table border=\"1\" class=\"dataframe\">\n",
       "  <thead>\n",
       "    <tr style=\"text-align: right;\">\n",
       "      <th></th>\n",
       "      <th>asset</th>\n",
       "      <th>date</th>\n",
       "      <th>close</th>\n",
       "      <th>pre_close</th>\n",
       "      <th>weight</th>\n",
       "      <th>pre_weight</th>\n",
       "    </tr>\n",
       "  </thead>\n",
       "  <tbody>\n",
       "    <tr>\n",
       "      <th>0</th>\n",
       "      <td>000002.XSHE</td>\n",
       "      <td>20230904</td>\n",
       "      <td>14.04</td>\n",
       "      <td>14.05</td>\n",
       "      <td>0.000409</td>\n",
       "      <td>0.000000</td>\n",
       "    </tr>\n",
       "    <tr>\n",
       "      <th>1</th>\n",
       "      <td>603180.XSHG</td>\n",
       "      <td>20230904</td>\n",
       "      <td>32.08</td>\n",
       "      <td>29.16</td>\n",
       "      <td>0.000204</td>\n",
       "      <td>0.000000</td>\n",
       "    </tr>\n",
       "    <tr>\n",
       "      <th>2</th>\n",
       "      <td>002456.XSHE</td>\n",
       "      <td>20230904</td>\n",
       "      <td>5.87</td>\n",
       "      <td>5.70</td>\n",
       "      <td>0.000613</td>\n",
       "      <td>0.000000</td>\n",
       "    </tr>\n",
       "    <tr>\n",
       "      <th>3</th>\n",
       "      <td>300862.XSHE</td>\n",
       "      <td>20230904</td>\n",
       "      <td>25.32</td>\n",
       "      <td>25.03</td>\n",
       "      <td>0.000618</td>\n",
       "      <td>0.000000</td>\n",
       "    </tr>\n",
       "    <tr>\n",
       "      <th>4</th>\n",
       "      <td>688163.XSHG</td>\n",
       "      <td>20230904</td>\n",
       "      <td>19.70</td>\n",
       "      <td>19.80</td>\n",
       "      <td>0.000353</td>\n",
       "      <td>0.000000</td>\n",
       "    </tr>\n",
       "    <tr>\n",
       "      <th>...</th>\n",
       "      <td>...</td>\n",
       "      <td>...</td>\n",
       "      <td>...</td>\n",
       "      <td>...</td>\n",
       "      <td>...</td>\n",
       "      <td>...</td>\n",
       "    </tr>\n",
       "    <tr>\n",
       "      <th>13108</th>\n",
       "      <td>300543.XSHE</td>\n",
       "      <td>20230908</td>\n",
       "      <td>10.08</td>\n",
       "      <td>10.04</td>\n",
       "      <td>0.000419</td>\n",
       "      <td>0.000419</td>\n",
       "    </tr>\n",
       "    <tr>\n",
       "      <th>13109</th>\n",
       "      <td>300538.XSHE</td>\n",
       "      <td>20230908</td>\n",
       "      <td>19.45</td>\n",
       "      <td>20.76</td>\n",
       "      <td>0.000059</td>\n",
       "      <td>0.000059</td>\n",
       "    </tr>\n",
       "    <tr>\n",
       "      <th>13110</th>\n",
       "      <td>603506.XSHG</td>\n",
       "      <td>20230908</td>\n",
       "      <td>12.62</td>\n",
       "      <td>12.89</td>\n",
       "      <td>0.000754</td>\n",
       "      <td>0.000754</td>\n",
       "    </tr>\n",
       "    <tr>\n",
       "      <th>13111</th>\n",
       "      <td>300552.XSHE</td>\n",
       "      <td>20230908</td>\n",
       "      <td>20.06</td>\n",
       "      <td>19.40</td>\n",
       "      <td>0.000184</td>\n",
       "      <td>0.000184</td>\n",
       "    </tr>\n",
       "    <tr>\n",
       "      <th>13112</th>\n",
       "      <td>688981.XSHG</td>\n",
       "      <td>20230908</td>\n",
       "      <td>52.50</td>\n",
       "      <td>52.12</td>\n",
       "      <td>0.000107</td>\n",
       "      <td>0.000107</td>\n",
       "    </tr>\n",
       "  </tbody>\n",
       "</table>\n",
       "<p>13113 rows × 6 columns</p>\n",
       "</div>"
      ],
      "text/plain": [
       "             asset      date  close  pre_close    weight  pre_weight\n",
       "0      000002.XSHE  20230904  14.04      14.05  0.000409    0.000000\n",
       "1      603180.XSHG  20230904  32.08      29.16  0.000204    0.000000\n",
       "2      002456.XSHE  20230904   5.87       5.70  0.000613    0.000000\n",
       "3      300862.XSHE  20230904  25.32      25.03  0.000618    0.000000\n",
       "4      688163.XSHG  20230904  19.70      19.80  0.000353    0.000000\n",
       "...            ...       ...    ...        ...       ...         ...\n",
       "13108  300543.XSHE  20230908  10.08      10.04  0.000419    0.000419\n",
       "13109  300538.XSHE  20230908  19.45      20.76  0.000059    0.000059\n",
       "13110  603506.XSHG  20230908  12.62      12.89  0.000754    0.000754\n",
       "13111  300552.XSHE  20230908  20.06      19.40  0.000184    0.000184\n",
       "13112  688981.XSHG  20230908  52.50      52.12  0.000107    0.000107\n",
       "\n",
       "[13113 rows x 6 columns]"
      ]
     },
     "execution_count": 14,
     "metadata": {},
     "output_type": "execute_result"
    }
   ],
   "source": [
    "normalized_index"
   ]
  },
  {
   "cell_type": "code",
   "execution_count": 15,
   "id": "d9ed1122-75f8-4980-9657-3449c4322bad",
   "metadata": {},
   "outputs": [
    {
     "name": "stdout",
     "output_type": "stream",
     "text": [
      "[1.0100394598325548, 1.0074983758215352, 1.0145221003151046, 0.9977342099113076, 1.0020234011760996]\n"
     ]
    }
   ],
   "source": [
    "#计算累计收益率\n",
    "R = 1\n",
    "per = 0.0015\n",
    "all = []\n",
    "for date,data in normalized_index.groupby('date'):\n",
    "    r = sum(((data['close']-data['pre_close'])/data['pre_close'])*data['weight'])\n",
    "    commission = sum(np.abs(data['weight']-data['pre_weight'])*per*2)\n",
    "    r -= commission\n",
    "    R = R*(1+r)\n",
    "    all.append(R)\n",
    "print(all)"
   ]
  },
  {
   "cell_type": "code",
   "execution_count": 16,
   "id": "39bf2ae0-0d5e-4900-a48b-0d3670bad6c0",
   "metadata": {},
   "outputs": [
    {
     "name": "stdout",
     "output_type": "stream",
     "text": [
      "        ts_code     name industry\n",
      "0     000001.SZ     平安银行       银行\n",
      "1     000002.SZ      万科A     全国地产\n",
      "2     000004.SZ     国华网安     软件服务\n",
      "3     000005.SZ     ST星源     环境保护\n",
      "4     000006.SZ     深振业A     区域地产\n",
      "...         ...      ...      ...\n",
      "5269  873339.BJ     恒太照明      元器件\n",
      "5270  873527.BJ      夜光明     化工原料\n",
      "5271  873576.BJ     天力复合      小金属\n",
      "5272  873593.BJ     鼎智科技     机械基件\n",
      "5273  689009.SH  九号公司-WD      摩托车\n",
      "\n",
      "[5274 rows x 3 columns]\n"
     ]
    }
   ],
   "source": [
    "#获取股票基本信息（所属行业）  （一小时仅可获取一次）\n",
    "stock_info = pro.stock_basic(list_status='L', fields='ts_code,name,industry')\n",
    "\n",
    "print(stock_info)"
   ]
  },
  {
   "cell_type": "code",
   "execution_count": 17,
   "id": "d22b112a-569f-4701-ab35-58819724422d",
   "metadata": {},
   "outputs": [],
   "source": [
    "#为获取的数据修改股票名称\n",
    "ls = []\n",
    "ts_code = []\n",
    "for i in stock_info['ts_code'].values:\n",
    "    ls = i.split('.')\n",
    "    if ls[1] == 'SZ':\n",
    "        ls[1] = 'XSHE'\n",
    "    elif ls[1] == 'SH':\n",
    "        ls[1] = 'XSHG'\n",
    "    else:\n",
    "        ls[1] = ''\n",
    "    ts_code.append(ls[0]+'.'+ls[1])\n",
    "\n",
    "stock_info['ts_code'] = ts_code\n",
    "\n",
    "stock_info.rename(columns={'ts_code':'asset'}, inplace=True)\n",
    "stock_info.drop(columns='name', inplace=True)"
   ]
  },
  {
   "cell_type": "code",
   "execution_count": 18,
   "id": "bcddb79b-8668-4b2a-b3c2-c6dbe884bc6b",
   "metadata": {},
   "outputs": [],
   "source": [
    "#合并权重数据和行业数据\n",
    "s = dff.merge(stock_info, on='asset', how='left')"
   ]
  },
  {
   "cell_type": "code",
   "execution_count": 19,
   "id": "e9765090-9969-4cf4-90b3-49676c767fcf",
   "metadata": {},
   "outputs": [
    {
     "data": {
      "text/plain": [
       "date      industry\n",
       "20230904  汽车配件        0.000013\n",
       "20230905  元器件         0.001443\n",
       "          文教休闲        0.000100\n",
       "Name: weight, dtype: float64"
      ]
     },
     "execution_count": 19,
     "metadata": {},
     "output_type": "execute_result"
    }
   ],
   "source": [
    "s.groupby(['date','industry'])['weight'].sum()"
   ]
  },
  {
   "cell_type": "code",
   "execution_count": 20,
   "id": "61c4d9a2-9cde-45be-9f88-a2a706ad67c4",
   "metadata": {},
   "outputs": [],
   "source": [
    "data_dic = s[s['date'] == s.groupby('date').last().index[-1]].groupby('industry')['weight'].sum().sort_values().to_dict()"
   ]
  },
  {
   "cell_type": "code",
   "execution_count": 21,
   "id": "b07e17ce-c937-46fc-adff-8db66e9efff9",
   "metadata": {},
   "outputs": [],
   "source": [
    "sorted_data = dict(sorted(data_dic.items(), key=lambda item: item[1], reverse=True))"
   ]
  },
  {
   "cell_type": "code",
   "execution_count": 22,
   "id": "043157f4-2a64-4dee-8272-8bf9e6434257",
   "metadata": {},
   "outputs": [],
   "source": [
    "weight_X = list(sorted_data.keys())\n",
    "weight_y = list(sorted_data.values())"
   ]
  },
  {
   "cell_type": "code",
   "execution_count": 23,
   "id": "7e08f72d-8121-4175-b9dd-6bdf1aa30a8a",
   "metadata": {},
   "outputs": [],
   "source": [
    "pie_data = []\n",
    "for index, value in sorted_data.items():\n",
    "    pie_data.append({\"value\": value, \"name\": index})\n",
    "    if len(pie_data) == 10:\n",
    "        break"
   ]
  },
  {
   "cell_type": "code",
   "execution_count": 24,
   "id": "6131e962-5ad3-4a42-8494-21f431b3a719",
   "metadata": {},
   "outputs": [],
   "source": [
    "#需要输出的累积收益数据\n",
    "time_Y = all\n",
    "time_x = list(dff['date'].unique())"
   ]
  },
  {
   "cell_type": "code",
   "execution_count": null,
   "id": "40771bc7-60a4-4662-be1b-14685ca5cbe5",
   "metadata": {},
   "outputs": [],
   "source": []
  }
 ],
 "metadata": {
  "kernelspec": {
   "display_name": "Python 3 (ipykernel)",
   "language": "python",
   "name": "python3"
  },
  "language_info": {
   "codemirror_mode": {
    "name": "ipython",
    "version": 3
   },
   "file_extension": ".py",
   "mimetype": "text/x-python",
   "name": "python",
   "nbconvert_exporter": "python",
   "pygments_lexer": "ipython3",
   "version": "3.11.5"
  }
 },
 "nbformat": 4,
 "nbformat_minor": 5
}
