{
 "cells": [
  {
   "cell_type": "code",
   "execution_count": 2,
   "metadata": {
    "collapsed": false,
    "execution": {
     "iopub.execute_input": "2023-08-20T10:13:42.479282Z",
     "iopub.status.busy": "2023-08-20T10:13:42.478428Z",
     "iopub.status.idle": "2023-08-20T10:13:42.705098Z",
     "shell.execute_reply": "2023-08-20T10:13:42.704128Z",
     "shell.execute_reply.started": "2023-08-20T10:13:42.479231Z"
    },
    "jupyter": {
     "outputs_hidden": false
    },
    "scrolled": true
   },
   "outputs": [],
   "source": [
    "# 查看工作区文件, 该目录下的变更将会持久保存. 请及时清理不必要的文件, 避免加载过慢.\n",
    "# View personal work directory. \n",
    "# All changes under this directory will be kept even after reset. \n",
    "# Please clean unnecessary files in time to speed up environment loading. \n",
    "!ls /home/aistudio/work"
   ]
  },
  {
   "cell_type": "code",
   "execution_count": 3,
   "metadata": {
    "collapsed": false,
    "execution": {
     "iopub.execute_input": "2023-08-20T10:13:43.307797Z",
     "iopub.status.busy": "2023-08-20T10:13:43.306751Z",
     "iopub.status.idle": "2023-08-20T10:13:46.733070Z",
     "shell.execute_reply": "2023-08-20T10:13:46.732224Z",
     "shell.execute_reply.started": "2023-08-20T10:13:43.307736Z"
    },
    "jupyter": {
     "outputs_hidden": false
    },
    "scrolled": true
   },
   "outputs": [
    {
     "name": "stdout",
     "output_type": "stream",
     "text": [
      "Looking in indexes: https://mirror.baidu.com/pypi/simple/, https://mirrors.aliyun.com/pypi/simple/, https://pypi.tuna.tsinghua.edu.cn/simple/\r\n",
      "Collecting beautifulsoup4\r\n",
      "  Downloading https://mirrors.aliyun.com/pypi/packages/57/f4/a69c20ee4f660081a7dedb1ac57f29be9378e04edfcb90c526b923d4bebc/beautifulsoup4-4.12.2-py3-none-any.whl (142 kB)\r\n",
      "\u001b[2K     \u001b[90m━━━━━━━━━━━━━━━━━━━━━━━━━━━━━━━━━━━━━━━\u001b[0m \u001b[32m143.0/143.0 kB\u001b[0m \u001b[31m2.9 MB/s\u001b[0m eta \u001b[36m0:00:00\u001b[0ma \u001b[36m0:00:01\u001b[0m\r\n",
      "\u001b[?25hCollecting soupsieve>1.2 (from beautifulsoup4)\r\n",
      "  Downloading https://mirrors.aliyun.com/pypi/packages/49/37/673d6490efc51ec46d198c75903d99de59baffdd47aea3d071b80a9e4e89/soupsieve-2.4.1-py3-none-any.whl (36 kB)\r\n",
      "Installing collected packages: soupsieve, beautifulsoup4\r\n",
      "Successfully installed beautifulsoup4-4.12.2 soupsieve-2.4.1\r\n"
     ]
    }
   ],
   "source": [
    "# 如果需要进行持久化安装, 需要使用持久化路径, 如下方代码示例:\n",
    "# If a persistence installation is required, \n",
    "# you need to use the persistence path as the following: \n",
    "!mkdir /home/aistudio/external-libraries\n",
    "!pip install beautifulsoup4 -t /home/aistudio/external-libraries"
   ]
  },
  {
   "cell_type": "code",
   "execution_count": 1,
   "metadata": {
    "collapsed": false,
    "execution": {
     "iopub.execute_input": "2023-08-20T12:46:52.003512Z",
     "iopub.status.busy": "2023-08-20T12:46:52.003081Z",
     "iopub.status.idle": "2023-08-20T12:46:52.007319Z",
     "shell.execute_reply": "2023-08-20T12:46:52.006684Z",
     "shell.execute_reply.started": "2023-08-20T12:46:52.003484Z"
    },
    "jupyter": {
     "outputs_hidden": false
    },
    "scrolled": true
   },
   "outputs": [],
   "source": [
    "# 同时添加如下代码, 这样每次环境(kernel)启动的时候只要运行下方代码即可: \n",
    "# Also add the following code, \n",
    "# so that every time the environment (kernel) starts, \n",
    "# just run the following code: \n",
    "import sys \n",
    "sys.path.append('/home/aistudio/external-libraries')"
   ]
  },
  {
   "cell_type": "markdown",
   "metadata": {},
   "source": [
    "请点击[此处](https://ai.baidu.com/docs#/AIStudio_Project_Notebook/a38e5576)查看本环境基本用法.  <br>\n",
    "Please click [here ](https://ai.baidu.com/docs#/AIStudio_Project_Notebook/a38e5576) for more detailed instructions. "
   ]
  },
  {
   "cell_type": "code",
   "execution_count": 1,
   "metadata": {
    "execution": {
     "iopub.execute_input": "2023-08-21T14:38:45.452132Z",
     "iopub.status.busy": "2023-08-21T14:38:45.451749Z",
     "iopub.status.idle": "2023-08-21T14:38:46.532682Z",
     "shell.execute_reply": "2023-08-21T14:38:46.531689Z",
     "shell.execute_reply.started": "2023-08-21T14:38:45.452108Z"
    },
    "scrolled": true
   },
   "outputs": [
    {
     "name": "stdout",
     "output_type": "stream",
     "text": [
      "total 7.0G\r\n",
      "-rwxrwxrwx 1 aistudio aistudio 839M Aug 21 22:24 factor_set_0_20100104_20221130.csv\r\n",
      "-rwxrwxrwx 1 aistudio aistudio  51M Aug 21 22:24 factor_set_0_20230103_20230630.csv\r\n",
      "-rwxrwxrwx 1 aistudio aistudio 3.9G Aug 21 22:24 factor_set_1_20100104_20221130.tar.gz\r\n",
      "-rwxrwxrwx 1 aistudio aistudio 242M Aug 21 22:24 factor_set_1_20230103_20230630.tar.gz\r\n",
      "-rwxrwxrwx 1 aistudio aistudio 841M Aug 21 22:24 factor_set_2_20131231_20221130.tar.gz\r\n",
      "-rwxrwxrwx 1 aistudio aistudio  79M Aug 21 22:24 factor_set_2_20230103_20230630.tar.gz\r\n",
      "-rwxrwxrwx 1 aistudio aistudio 115M Aug 21 22:24 label_20100104_20221130.tar.gz\r\n",
      "-rwxrwxrwx 1 aistudio aistudio 934M Aug 21 22:24 risk_set_20100104_20221130.tar.gz\r\n",
      "-rwxrwxrwx 1 aistudio aistudio  57M Aug 21 22:24 risk_set_20230103_20230630.tar.gz\r\n"
     ]
    }
   ],
   "source": [
    "import pandas as pd\n",
    "import numpy as np\n",
    "import matplotlib.pyplot as plt\n",
    "\n",
    "def reduce_mem_usage(df):\n",
    "    \"\"\" iterate through all the columns of a dataframe and modify the data type\n",
    "        to reduce memory usage.        \n",
    "    \"\"\"\n",
    "    start_mem = df.memory_usage().sum() / 1024**2\n",
    "    print('Memory usage of dataframe is {:.2f} MB'.format(start_mem))\n",
    "    \n",
    "    for col in df.columns:\n",
    "        col_type = df[col].dtype\n",
    "        \n",
    "        if col_type != object:\n",
    "            c_min = df[col].min()\n",
    "            c_max = df[col].max()\n",
    "            if str(col_type)[:3] == 'int':\n",
    "                if c_min > np.iinfo(np.int8).min and c_max < np.iinfo(np.int8).max:\n",
    "                    df[col] = df[col].astype(np.int8)\n",
    "                elif c_min > np.iinfo(np.int16).min and c_max < np.iinfo(np.int16).max:\n",
    "                    df[col] = df[col].astype(np.int16)\n",
    "                elif c_min > np.iinfo(np.int32).min and c_max < np.iinfo(np.int32).max:\n",
    "                    df[col] = df[col].astype(np.int32)\n",
    "                elif c_min > np.iinfo(np.int64).min and c_max < np.iinfo(np.int64).max:\n",
    "                    df[col] = df[col].astype(np.int64)  \n",
    "            else:\n",
    "                if c_min > np.finfo(np.float16).min and c_max < np.finfo(np.float16).max:\n",
    "                    df[col] = df[col].astype(np.float16)\n",
    "                elif c_min > np.finfo(np.float32).min and c_max < np.finfo(np.float32).max:\n",
    "                    df[col] = df[col].astype(np.float32)\n",
    "                else:\n",
    "                    df[col] = df[col].astype(np.float64)\n",
    "        else:\n",
    "            df[col] = df[col].astype('category')\n",
    "\n",
    "    end_mem = df.memory_usage().sum() / 1024**2\n",
    "    print('Memory usage after optimization is: {:.2f} MB'.format(end_mem))\n",
    "    print('Decreased by {:.1f}%'.format(100 * (start_mem - end_mem) / start_mem))\n",
    "    \n",
    "    return df\n",
    "\n",
    "# https://aistudio.baidu.com/aistudio/datasetdetail/230997/0\n",
    "!ls /home/aistudio/data/data230997/ -lh"
   ]
  },
  {
   "cell_type": "code",
   "execution_count": 2,
   "metadata": {
    "execution": {
     "iopub.execute_input": "2023-08-21T14:40:31.468439Z",
     "iopub.status.busy": "2023-08-21T14:40:31.468020Z",
     "iopub.status.idle": "2023-08-21T14:46:02.055649Z",
     "shell.execute_reply": "2023-08-21T14:46:02.054655Z",
     "shell.execute_reply.started": "2023-08-21T14:40:31.468414Z"
    },
    "scrolled": true,
    "tags": []
   },
   "outputs": [
    {
     "name": "stdout",
     "output_type": "stream",
     "text": [
      "Memory usage of dataframe is 595.78 MB\r\n",
      "Memory usage after optimization is: 260.82 MB\r\n",
      "Decreased by 56.2%\r\n",
      "Memory usage of dataframe is 3947.02 MB\r\n",
      "Memory usage after optimization is: 1042.77 MB\r\n",
      "Decreased by 73.6%\r\n",
      "Memory usage of dataframe is 985.41 MB\r\n",
      "Memory usage after optimization is: 261.01 MB\r\n",
      "Decreased by 73.5%\r\n",
      "Memory usage of dataframe is 968.14 MB\r\n",
      "Memory usage after optimization is: 260.82 MB\r\n",
      "Decreased by 73.1%\r\n",
      "Memory usage of dataframe is 223.42 MB\r\n",
      "Memory usage after optimization is: 74.64 MB\r\n",
      "Decreased by 66.6%\r\n"
     ]
    }
   ],
   "source": [
    "train_factor_set_0 = pd.read_csv(\"/home/aistudio/data/data230997/factor_set_0_20100104_20221130.csv\", nrows=None)\n",
    "train_factor_set_0 = reduce_mem_usage(train_factor_set_0)\n",
    "\n",
    "train_factor_set_1 = pd.read_csv(\"/home/aistudio/data/data230997/factor_set_1_20100104_20221130.tar.gz\", nrows=None)\n",
    "train_factor_set_1 = reduce_mem_usage(train_factor_set_1)\n",
    "\n",
    "train_factor_set_2 = pd.read_csv(\"/home/aistudio/data/data230997/factor_set_2_20131231_20221130.tar.gz\", nrows=None)\n",
    "train_factor_set_2 = reduce_mem_usage(train_factor_set_2)\n",
    "\n",
    "train_risk_set = pd.read_csv(\"/home/aistudio/data/data230997/risk_set_20100104_20221130.tar.gz\", nrows=None)\n",
    "train_risk_set = reduce_mem_usage(train_risk_set)\n",
    "\n",
    "train_label = pd.read_csv(\"/home/aistudio/data/data230997/label_20100104_20221130.tar.gz\", nrows=None)\n",
    "train_label = reduce_mem_usage(train_label)"
   ]
  },
  {
   "cell_type": "code",
   "execution_count": 46,
   "metadata": {
    "execution": {
     "iopub.execute_input": "2023-08-21T03:40:43.844783Z",
     "iopub.status.busy": "2023-08-21T03:40:43.844416Z",
     "iopub.status.idle": "2023-08-21T03:40:44.027984Z",
     "shell.execute_reply": "2023-08-21T03:40:44.027489Z",
     "shell.execute_reply.started": "2023-08-21T03:40:43.844760Z"
    },
    "scrolled": true,
    "tags": []
   },
   "outputs": [
    {
     "data": {
      "text/plain": [
       "(26.34, -0.893)"
      ]
     },
     "execution_count": 46,
     "metadata": {},
     "output_type": "execute_result"
    }
   ],
   "source": [
    "train_label['label'].max(), train_label['label'].min()"
   ]
  },
  {
   "cell_type": "code",
   "execution_count": 18,
   "metadata": {
    "execution": {
     "iopub.execute_input": "2023-08-20T13:21:58.748198Z",
     "iopub.status.busy": "2023-08-20T13:21:58.747778Z",
     "iopub.status.idle": "2023-08-20T13:21:58.752857Z",
     "shell.execute_reply": "2023-08-20T13:21:58.752352Z",
     "shell.execute_reply.started": "2023-08-20T13:21:58.748175Z"
    },
    "scrolled": true
   },
   "outputs": [
    {
     "data": {
      "text/plain": [
       "((7597662, 8), (7597662, 53), (7597662, 17), (7597662, 13), (7597662, 3))"
      ]
     },
     "execution_count": 18,
     "metadata": {},
     "output_type": "execute_result"
    }
   ],
   "source": [
    "train_factor_set_0.shape, train_factor_set_1.shape, train_factor_set_2.shape, train_risk_set.shape, train_label.shape"
   ]
  },
  {
   "cell_type": "code",
   "execution_count": 5,
   "metadata": {
    "execution": {
     "iopub.execute_input": "2023-08-21T14:57:49.843811Z",
     "iopub.status.busy": "2023-08-21T14:57:49.843439Z",
     "iopub.status.idle": "2023-08-21T14:57:49.847688Z",
     "shell.execute_reply": "2023-08-21T14:57:49.847165Z",
     "shell.execute_reply.started": "2023-08-21T14:57:49.843790Z"
    },
    "scrolled": true,
    "tags": []
   },
   "outputs": [],
   "source": [
    "# 将dataframe处理成一样的长度\n",
    "def the_same_long(short_df, long_df):\n",
    "    # 获取短DataFrame的长度\n",
    "    length_of_short_df = len(short_df)\n",
    "    \n",
    "    # 获取长DataFrame的长度\n",
    "    length_of_long_df = len(long_df)\n",
    "    \n",
    "    # 计算需要丢弃的行数\n",
    "    rows_to_drop = length_of_long_df - length_of_short_df\n",
    "    \n",
    "    # 丢弃多余的行\n",
    "    trimmed_long_df = long_df.iloc[rows_to_drop:]\n",
    "\n",
    "    del short_df\n",
    "    del long_df\n",
    "\n",
    "    return trimmed_long_df"
   ]
  },
  {
   "cell_type": "code",
   "execution_count": 6,
   "metadata": {
    "execution": {
     "iopub.execute_input": "2023-08-21T14:57:51.696459Z",
     "iopub.status.busy": "2023-08-21T14:57:51.696153Z",
     "iopub.status.idle": "2023-08-21T14:57:53.502454Z",
     "shell.execute_reply": "2023-08-21T14:57:53.501924Z",
     "shell.execute_reply.started": "2023-08-21T14:57:51.696439Z"
    },
    "scrolled": true
   },
   "outputs": [
    {
     "data": {
      "text/plain": [
       "((7597662, 8), (7597662, 53), (7597662, 17), (7597662, 13), (7597662, 3))"
      ]
     },
     "execution_count": 6,
     "metadata": {},
     "output_type": "execute_result"
    }
   ],
   "source": [
    "train_factor_set_0 = the_same_long(train_factor_set_2, train_factor_set_0).reset_index(drop=True)\n",
    "train_factor_set_0['AdjPrice_Close'] = train_factor_set_0['AdjPrice_Close'] / (10 ** 5)\n",
    "train_factor_set_0['AdjPrice_High'] = train_factor_set_0['AdjPrice_High'] / (10 ** 5)\n",
    "train_factor_set_0['AdjPrice_Open'] = train_factor_set_0['AdjPrice_Open'] / (10 ** 5)\n",
    "train_factor_set_0['AdjPrice_Low'] = train_factor_set_0['AdjPrice_Low'] / (10 ** 5)\n",
    "train_factor_set_0['Vwap_Adj_1d'] = train_factor_set_0['Vwap_Adj_1d'] / (10 ** 5)\n",
    "\n",
    "train_factor_set_1 = the_same_long(train_factor_set_2, train_factor_set_1).reset_index(drop=True)\n",
    "train_risk_set = the_same_long(train_factor_set_2, train_risk_set).reset_index(drop=True)\n",
    "train_label = the_same_long(train_factor_set_2, train_label).reset_index(drop=True)\n",
    "\n",
    "train_factor_set_0.shape, train_factor_set_1.shape, train_factor_set_2.shape, train_risk_set.shape, train_label.shape"
   ]
  },
  {
   "cell_type": "code",
   "execution_count": 43,
   "metadata": {
    "execution": {
     "iopub.execute_input": "2023-08-20T14:16:22.990918Z",
     "iopub.status.busy": "2023-08-20T14:16:22.990411Z",
     "iopub.status.idle": "2023-08-20T14:16:23.067538Z",
     "shell.execute_reply": "2023-08-20T14:16:23.067055Z",
     "shell.execute_reply.started": "2023-08-20T14:16:22.990894Z"
    },
    "scrolled": true
   },
   "outputs": [
    {
     "data": {
      "text/plain": [
       "(1.225903515625, 2.9958128929138185e-06)"
      ]
     },
     "execution_count": 43,
     "metadata": {},
     "output_type": "execute_result"
    }
   ],
   "source": [
    "train_factor_set_0['Vwap_Adj_1d'].max(), train_factor_set_0['Vwap_Adj_1d'].min()"
   ]
  },
  {
   "cell_type": "code",
   "execution_count": 5,
   "metadata": {
    "execution": {
     "iopub.execute_input": "2023-08-21T03:56:31.770316Z",
     "iopub.status.busy": "2023-08-21T03:56:31.769932Z",
     "iopub.status.idle": "2023-08-21T03:56:32.730366Z",
     "shell.execute_reply": "2023-08-21T03:56:32.729791Z",
     "shell.execute_reply.started": "2023-08-21T03:56:31.770292Z"
    },
    "scrolled": true
   },
   "outputs": [
    {
     "data": {
      "text/plain": [
       "(1.0, -1.0)"
      ]
     },
     "execution_count": 5,
     "metadata": {},
     "output_type": "execute_result"
    }
   ],
   "source": [
    "from sklearn.preprocessing import MinMaxScaler\n",
    "# 创建MinMaxScaler对象并指定范围\n",
    "scaler = MinMaxScaler(feature_range=(-1, 1))\n",
    "\n",
    "# 将所选列缩放到指定范围并替换原始DataFrame中的列\n",
    "train_label['label'] = scaler.fit_transform(train_label[['label']])\n",
    "train_label['label'].max(), train_label['label'].min()"
   ]
  },
  {
   "cell_type": "code",
   "execution_count": 40,
   "metadata": {
    "execution": {
     "iopub.execute_input": "2023-08-21T15:20:48.424890Z",
     "iopub.status.busy": "2023-08-21T15:20:48.424544Z",
     "iopub.status.idle": "2023-08-21T15:20:50.256703Z",
     "shell.execute_reply": "2023-08-21T15:20:50.255798Z",
     "shell.execute_reply.started": "2023-08-21T15:20:48.424867Z"
    },
    "scrolled": true
   },
   "outputs": [],
   "source": [
    "train_stack_data = pd.concat([\n",
    "    # train_factor_set_0,\n",
    "    train_factor_set_1,\n",
    "    train_factor_set_2.drop(['date', 'asset'], axis=1),\n",
    "    train_risk_set.drop(['date', 'asset'], axis=1),\n",
    "    train_label.drop(['date', 'asset'], axis=1)  # 重置索引，以便于连接\n",
    "], axis=1)"
   ]
  },
  {
   "cell_type": "code",
   "execution_count": 41,
   "metadata": {
    "execution": {
     "iopub.execute_input": "2023-08-21T15:21:00.979957Z",
     "iopub.status.busy": "2023-08-21T15:21:00.979599Z",
     "iopub.status.idle": "2023-08-21T15:21:00.984214Z",
     "shell.execute_reply": "2023-08-21T15:21:00.983758Z",
     "shell.execute_reply.started": "2023-08-21T15:21:00.979935Z"
    },
    "scrolled": true
   },
   "outputs": [
    {
     "data": {
      "text/plain": [
       "(7597662, 80)"
      ]
     },
     "execution_count": 41,
     "metadata": {},
     "output_type": "execute_result"
    }
   ],
   "source": [
    "train_stack_data.shape"
   ]
  },
  {
   "cell_type": "code",
   "execution_count": 42,
   "metadata": {
    "execution": {
     "iopub.execute_input": "2023-08-21T15:21:26.786373Z",
     "iopub.status.busy": "2023-08-21T15:21:26.786027Z",
     "iopub.status.idle": "2023-08-21T15:21:26.802238Z",
     "shell.execute_reply": "2023-08-21T15:21:26.801665Z",
     "shell.execute_reply.started": "2023-08-21T15:21:26.786353Z"
    },
    "scrolled": true
   },
   "outputs": [],
   "source": [
    "groups = train_stack_data.groupby('asset')\n",
    "del train_stack_data"
   ]
  },
  {
   "cell_type": "code",
   "execution_count": 45,
   "metadata": {
    "execution": {
     "iopub.execute_input": "2023-08-21T15:22:34.602947Z",
     "iopub.status.busy": "2023-08-21T15:22:34.602574Z",
     "iopub.status.idle": "2023-08-21T15:23:01.318750Z",
     "shell.execute_reply": "2023-08-21T15:23:01.317974Z",
     "shell.execute_reply.started": "2023-08-21T15:22:34.602926Z"
    },
    "scrolled": true,
    "tags": []
   },
   "outputs": [],
   "source": [
    "# 切割每个子dataframe\n",
    "train_dataset_pre = []\n",
    "train_label_pre = []\n",
    "for name, group in groups:\n",
    "    one_sample = group.sort_values(by=['date']).iloc[:, 2:-1].fillna(0).values.astype(np.float32)\n",
    "    one_label = group.sort_values(by=['date']).iloc[:, -1].fillna(0).values.astype(np.float32)\n",
    "    for idx in range(one_sample.shape[0]):\n",
    "        if idx > 4:\n",
    "            feat_data = one_sample[idx-5:idx]\n",
    "            feat_label = one_label[idx]\n",
    "            train_dataset_pre.append(feat_data)\n",
    "            train_label_pre.append(feat_label)\n",
    "        else:\n",
    "            pad = np.zeros((4-idx, 77)).astype(np.float32)\n",
    "            feat_data = one_sample[:idx+1]\n",
    "            feat_data = np.vstack([pad, feat_data])\n",
    "            feat_label = one_label[idx]\n",
    "            train_dataset_pre.append(feat_data)\n",
    "            train_label_pre.append(feat_label)\n",
    "del one_sample\n",
    "del one_label"
   ]
  },
  {
   "cell_type": "code",
   "execution_count": 46,
   "metadata": {
    "execution": {
     "iopub.execute_input": "2023-08-21T15:23:26.695219Z",
     "iopub.status.busy": "2023-08-21T15:23:26.694839Z",
     "iopub.status.idle": "2023-08-21T15:23:40.144564Z",
     "shell.execute_reply": "2023-08-21T15:23:40.144030Z",
     "shell.execute_reply.started": "2023-08-21T15:23:26.695195Z"
    },
    "scrolled": true,
    "tags": []
   },
   "outputs": [
    {
     "data": {
      "text/plain": [
       "((7597662, 5, 77), (7597662,))"
      ]
     },
     "execution_count": 46,
     "metadata": {},
     "output_type": "execute_result"
    }
   ],
   "source": [
    "# 将列表数组化\n",
    "train_dataset_pre = np.array(train_dataset_pre).astype(np.float32)\n",
    "train_label_pre = np.array(train_label_pre).astype(np.float32)\n",
    "train_dataset_pre.shape, train_label_pre.shape"
   ]
  },
  {
   "cell_type": "code",
   "execution_count": 22,
   "metadata": {
    "execution": {
     "iopub.execute_input": "2023-08-21T15:16:53.657169Z",
     "iopub.status.busy": "2023-08-21T15:16:53.656825Z",
     "iopub.status.idle": "2023-08-21T15:17:18.238666Z",
     "shell.execute_reply": "2023-08-21T15:17:18.237900Z",
     "shell.execute_reply.started": "2023-08-21T15:16:53.657148Z"
    },
    "scrolled": true,
    "tags": []
   },
   "outputs": [
    {
     "name": "stdout",
     "output_type": "stream",
     "text": [
      "Memory usage of dataframe is 35.68 MB\r\n",
      "Memory usage after optimization is: 10.20 MB\r\n",
      "Decreased by 71.4%\r\n",
      "Memory usage of dataframe is 236.40 MB\r\n",
      "Memory usage after optimization is: 61.49 MB\r\n",
      "Decreased by 74.0%\r\n",
      "Memory usage of dataframe is 75.83 MB\r\n",
      "Memory usage after optimization is: 20.24 MB\r\n",
      "Decreased by 73.3%\r\n",
      "Memory usage of dataframe is 57.98 MB\r\n",
      "Memory usage after optimization is: 15.78 MB\r\n",
      "Decreased by 72.8%\r\n"
     ]
    }
   ],
   "source": [
    "# 初赛预测数据集\n",
    "test_factor_set_0 = pd.read_csv(\"/home/aistudio/data/data230997/factor_set_0_20230103_20230630.csv\", nrows=None)\n",
    "test_factor_set_0 = reduce_mem_usage(test_factor_set_0)\n",
    "\n",
    "test_factor_set_1 = pd.read_csv(\"/home/aistudio/data/data230997/factor_set_1_20230103_20230630.tar.gz\", nrows=None)\n",
    "test_factor_set_1 = reduce_mem_usage(test_factor_set_1)\n",
    "\n",
    "test_factor_set_2 = pd.read_csv(\"/home/aistudio/data/data230997/factor_set_2_20230103_20230630.tar.gz\", nrows=None)\n",
    "test_factor_set_2 = reduce_mem_usage(test_factor_set_2)\n",
    "\n",
    "test_risk_set = pd.read_csv(\"/home/aistudio/data/data230997/risk_set_20230103_20230630.tar.gz\", nrows=None)\n",
    "test_risk_set = reduce_mem_usage(test_risk_set)"
   ]
  },
  {
   "cell_type": "code",
   "execution_count": 96,
   "metadata": {
    "execution": {
     "iopub.execute_input": "2023-08-21T04:46:27.155460Z",
     "iopub.status.busy": "2023-08-21T04:46:27.155038Z",
     "iopub.status.idle": "2023-08-21T04:46:28.137465Z",
     "shell.execute_reply": "2023-08-21T04:46:28.136912Z",
     "shell.execute_reply.started": "2023-08-21T04:46:27.155434Z"
    },
    "scrolled": true
   },
   "outputs": [
    {
     "name": "stdout",
     "output_type": "stream",
     "text": [
      "Memory usage of dataframe is 1.54 MB\r\n",
      "Memory usage after optimization is: 0.60 MB\r\n",
      "Decreased by 61.2%\r\n",
      "Memory usage of dataframe is 10.19 MB\r\n",
      "Memory usage after optimization is: 2.81 MB\r\n",
      "Decreased by 72.4%\r\n",
      "Memory usage of dataframe is 3.27 MB\r\n",
      "Memory usage after optimization is: 1.03 MB\r\n",
      "Decreased by 68.5%\r\n",
      "Memory usage of dataframe is 2.00 MB\r\n",
      "Memory usage after optimization is: 0.70 MB\r\n",
      "Decreased by 64.8%\r\n",
      "Memory usage of dataframe is 0.50 MB\r\n",
      "Memory usage after optimization is: 0.30 MB\r\n",
      "Decreased by 40.2%\r\n"
     ]
    }
   ],
   "source": [
    "# 复赛预测数据集\n",
    "test_factor_set_0 = pd.read_csv(\"/home/aistudio/data/data234759/0819/factor_set_0_20230814_20230818.tar.gz\", nrows=None)\n",
    "test_factor_set_0 = reduce_mem_usage(test_factor_set_0)\n",
    "\n",
    "test_factor_set_1 = pd.read_csv(\"/home/aistudio/data/data234759/0819/factor_set_1_20230814_20230818.tar.gz\", nrows=None)\n",
    "test_factor_set_1 = reduce_mem_usage(test_factor_set_1)\n",
    "\n",
    "test_factor_set_2 = pd.read_csv(\"/home/aistudio/data/data234759/0819/factor_set_2_20230814_20230818.tar.gz\", nrows=None)\n",
    "test_factor_set_2 = reduce_mem_usage(test_factor_set_2)\n",
    "\n",
    "test_risk_set_0 = pd.read_csv(\"/home/aistudio/data/data234759/0819/risk_set_20230814_20230817.tar.gz\", nrows=None)\n",
    "test_risk_set_0 = reduce_mem_usage(test_risk_set_0)\n",
    "\n",
    "test_risk_set_1 = pd.read_csv(\"/home/aistudio/data/data234759/risk_set_20230818_20230818.tar.gz\", nrows=None)\n",
    "test_risk_set_1 = reduce_mem_usage(test_risk_set_1)"
   ]
  },
  {
   "cell_type": "code",
   "execution_count": 97,
   "metadata": {
    "execution": {
     "iopub.execute_input": "2023-08-21T04:46:30.792704Z",
     "iopub.status.busy": "2023-08-21T04:46:30.792297Z",
     "iopub.status.idle": "2023-08-21T04:46:30.802712Z",
     "shell.execute_reply": "2023-08-21T04:46:30.802017Z",
     "shell.execute_reply.started": "2023-08-21T04:46:30.792677Z"
    },
    "scrolled": true
   },
   "outputs": [],
   "source": [
    "# 连接复赛risk特征\n",
    "test_risk_set = pd.concat([test_risk_set_0, test_risk_set_1]).reset_index(drop=True)"
   ]
  },
  {
   "cell_type": "code",
   "execution_count": 98,
   "metadata": {
    "execution": {
     "iopub.execute_input": "2023-08-21T04:46:32.986479Z",
     "iopub.status.busy": "2023-08-21T04:46:32.986090Z",
     "iopub.status.idle": "2023-08-21T04:46:32.990761Z",
     "shell.execute_reply": "2023-08-21T04:46:32.990193Z",
     "shell.execute_reply.started": "2023-08-21T04:46:32.986440Z"
    },
    "scrolled": true
   },
   "outputs": [
    {
     "data": {
      "text/plain": [
       "((25207, 8), (25207, 53), (25207, 17), (25207, 13))"
      ]
     },
     "execution_count": 98,
     "metadata": {},
     "output_type": "execute_result"
    }
   ],
   "source": [
    "test_factor_set_0.shape, test_factor_set_1.shape, test_factor_set_2.shape, test_risk_set.shape"
   ]
  },
  {
   "cell_type": "code",
   "execution_count": 23,
   "metadata": {
    "execution": {
     "iopub.execute_input": "2023-08-21T15:17:32.965473Z",
     "iopub.status.busy": "2023-08-21T15:17:32.965116Z",
     "iopub.status.idle": "2023-08-21T15:17:33.109209Z",
     "shell.execute_reply": "2023-08-21T15:17:33.108626Z",
     "shell.execute_reply.started": "2023-08-21T15:17:32.965451Z"
    },
    "scrolled": true
   },
   "outputs": [],
   "source": [
    "# 将0特征集缩放5个数量级\n",
    "test_factor_set_0['AdjPrice_Close'] = train_factor_set_0['AdjPrice_Close'] / (10 ** 5)\n",
    "test_factor_set_0['AdjPrice_High'] = train_factor_set_0['AdjPrice_High'] / (10 ** 5)\n",
    "test_factor_set_0['AdjPrice_Open'] = train_factor_set_0['AdjPrice_Open'] / (10 ** 5)\n",
    "test_factor_set_0['AdjPrice_Low'] = train_factor_set_0['AdjPrice_Low'] / (10 ** 5)\n",
    "test_factor_set_0['Vwap_Adj_1d'] = train_factor_set_0['Vwap_Adj_1d'] / (10 ** 5)"
   ]
  },
  {
   "cell_type": "code",
   "execution_count": 47,
   "metadata": {
    "execution": {
     "iopub.execute_input": "2023-08-21T15:24:12.587198Z",
     "iopub.status.busy": "2023-08-21T15:24:12.586820Z",
     "iopub.status.idle": "2023-08-21T15:24:12.734454Z",
     "shell.execute_reply": "2023-08-21T15:24:12.733906Z",
     "shell.execute_reply.started": "2023-08-21T15:24:12.587176Z"
    },
    "scrolled": true
   },
   "outputs": [],
   "source": [
    "test_stack_data = pd.concat([\n",
    "    # test_factor_set_0,\n",
    "    test_factor_set_1,\n",
    "    test_factor_set_2.drop(['date', 'asset'], axis=1),\n",
    "    test_risk_set.drop(['date', 'asset'], axis=1)  # 重置索引，以便于连接\n",
    "], axis=1)"
   ]
  },
  {
   "cell_type": "code",
   "execution_count": 48,
   "metadata": {
    "execution": {
     "iopub.execute_input": "2023-08-21T15:24:15.187142Z",
     "iopub.status.busy": "2023-08-21T15:24:15.186774Z",
     "iopub.status.idle": "2023-08-21T15:24:15.198654Z",
     "shell.execute_reply": "2023-08-21T15:24:15.198106Z",
     "shell.execute_reply.started": "2023-08-21T15:24:15.187122Z"
    },
    "scrolled": true
   },
   "outputs": [],
   "source": [
    "# 按asset分组并保留索引数据框\n",
    "groups_test = test_stack_data.groupby('asset')\n",
    "test_index = test_stack_data.iloc[:, :2]\n",
    "del test_stack_data"
   ]
  },
  {
   "cell_type": "code",
   "execution_count": 49,
   "metadata": {
    "execution": {
     "iopub.execute_input": "2023-08-21T15:24:21.776621Z",
     "iopub.status.busy": "2023-08-21T15:24:21.776261Z",
     "iopub.status.idle": "2023-08-21T15:24:30.765457Z",
     "shell.execute_reply": "2023-08-21T15:24:30.764875Z",
     "shell.execute_reply.started": "2023-08-21T15:24:21.776598Z"
    },
    "scrolled": true
   },
   "outputs": [],
   "source": [
    "# 切割每个子dataframe\n",
    "test_dataset_pre = []\n",
    "\n",
    "for name, group in groups_test:\n",
    "    one_sample_test = group.sort_values(by=['date']).iloc[:, 2:].fillna(0).values.astype(np.float32)\n",
    "\n",
    "    for idx in range(one_sample_test.shape[0]):\n",
    "        if idx > 4:\n",
    "            feat_data = one_sample_test[idx-5:idx]\n",
    "            test_dataset_pre.append(feat_data)\n",
    "\n",
    "        else:\n",
    "            pad = np.zeros((4-idx, 77)).astype(np.float32)\n",
    "            feat_data = one_sample_test[:idx+1]\n",
    "            feat_data = np.vstack([pad, feat_data])\n",
    "\n",
    "            test_dataset_pre.append(feat_data)\n",
    "\n",
    "del one_sample_test"
   ]
  },
  {
   "cell_type": "code",
   "execution_count": 50,
   "metadata": {
    "execution": {
     "iopub.execute_input": "2023-08-21T15:24:40.785534Z",
     "iopub.status.busy": "2023-08-21T15:24:40.785166Z",
     "iopub.status.idle": "2023-08-21T15:24:41.701789Z",
     "shell.execute_reply": "2023-08-21T15:24:41.701280Z",
     "shell.execute_reply.started": "2023-08-21T15:24:40.785511Z"
    },
    "scrolled": true
   },
   "outputs": [
    {
     "data": {
      "text/plain": [
       "(584625, 5, 77)"
      ]
     },
     "execution_count": 50,
     "metadata": {},
     "output_type": "execute_result"
    }
   ],
   "source": [
    "# 将列表数组化\n",
    "test_dataset_pre = np.array(test_dataset_pre).astype(np.float32)\n",
    "test_dataset_pre.shape"
   ]
  },
  {
   "cell_type": "code",
   "execution_count": 3,
   "metadata": {
    "execution": {
     "iopub.execute_input": "2023-08-21T14:50:24.639050Z",
     "iopub.status.busy": "2023-08-21T14:50:24.638676Z",
     "iopub.status.idle": "2023-08-21T14:50:25.530546Z",
     "shell.execute_reply": "2023-08-21T14:50:25.529951Z",
     "shell.execute_reply.started": "2023-08-21T14:50:24.639028Z"
    },
    "scrolled": true,
    "tags": []
   },
   "outputs": [],
   "source": [
    "import paddle\n",
    "import paddle.nn as nn\n",
    "import paddle.nn.functional as F\n",
    "import paddle.optimizer as optim\n",
    "from paddle.io import Dataset, DataLoader"
   ]
  },
  {
   "cell_type": "code",
   "execution_count": 12,
   "metadata": {
    "execution": {
     "iopub.execute_input": "2023-08-21T15:00:54.877519Z",
     "iopub.status.busy": "2023-08-21T15:00:54.877159Z",
     "iopub.status.idle": "2023-08-21T15:00:54.881515Z",
     "shell.execute_reply": "2023-08-21T15:00:54.881015Z",
     "shell.execute_reply.started": "2023-08-21T15:00:54.877496Z"
    },
    "scrolled": true
   },
   "outputs": [],
   "source": [
    "# 数据集子类继承\n",
    "class CustomDataset(Dataset):\n",
    "    def __init__(self, dataset, label):\n",
    "        self.dataset = dataset\n",
    "        self.label = label.reshape(-1, 1)\n",
    "    \n",
    "    def __getitem__(self, idx):\n",
    "        return self.dataset[idx], self.label[idx]\n",
    "\n",
    "    def __len__(self):\n",
    "        return len(self.label)"
   ]
  },
  {
   "cell_type": "code",
   "execution_count": 51,
   "metadata": {
    "execution": {
     "iopub.execute_input": "2023-08-21T15:24:46.430902Z",
     "iopub.status.busy": "2023-08-21T15:24:46.430528Z",
     "iopub.status.idle": "2023-08-21T15:24:46.434424Z",
     "shell.execute_reply": "2023-08-21T15:24:46.433939Z",
     "shell.execute_reply.started": "2023-08-21T15:24:46.430880Z"
    },
    "scrolled": true,
    "tags": []
   },
   "outputs": [],
   "source": [
    "# 生成训练集和测试集，务必以这种继承类的方式生成，不然fit不进去\n",
    "train_dataset = CustomDataset(\n",
    "    train_dataset_pre[:6078130],\n",
    "    train_label_pre[:6078130],\n",
    ")\n",
    "\n",
    "val_dataset = CustomDataset(\n",
    "    train_dataset_pre[6078130:],\n",
    "    train_label_pre[6078130:],\n",
    ")\n"
   ]
  },
  {
   "cell_type": "code",
   "execution_count": 59,
   "metadata": {
    "execution": {
     "iopub.execute_input": "2023-08-21T15:27:22.061097Z",
     "iopub.status.busy": "2023-08-21T15:27:22.060721Z",
     "iopub.status.idle": "2023-08-21T15:27:22.064794Z",
     "shell.execute_reply": "2023-08-21T15:27:22.064290Z",
     "shell.execute_reply.started": "2023-08-21T15:27:22.061072Z"
    },
    "scrolled": true,
    "tags": []
   },
   "outputs": [],
   "source": [
    "train_loader = DataLoader(train_dataset,\n",
    "                    batch_size=4096,\n",
    "                    shuffle=True,\n",
    "                    num_workers=1)\n",
    "\n",
    "val_loader = DataLoader(val_dataset,\n",
    "                    batch_size=4096,\n",
    "                    shuffle=True,\n",
    "                    num_workers=1)"
   ]
  },
  {
   "cell_type": "code",
   "execution_count": 53,
   "metadata": {
    "execution": {
     "iopub.execute_input": "2023-08-21T15:24:51.301920Z",
     "iopub.status.busy": "2023-08-21T15:24:51.301546Z",
     "iopub.status.idle": "2023-08-21T15:24:52.028560Z",
     "shell.execute_reply": "2023-08-21T15:24:52.027816Z",
     "shell.execute_reply.started": "2023-08-21T15:24:51.301896Z"
    },
    "scrolled": true,
    "tags": []
   },
   "outputs": [
    {
     "name": "stdout",
     "output_type": "stream",
     "text": [
      "Features: Tensor(shape=[2048, 5, 77], dtype=float32, place=Place(gpu_pinned), stop_gradient=True,\r\n",
      "       [[[ 0.        ,  0.00411987, -0.01872253, ..., -2.13476562,\r\n",
      "          -1.26367188,  0.11328125],\r\n",
      "         [-0.00626755,  0.03077698, -0.00626755, ..., -2.13671875,\r\n",
      "          -1.26367188,  0.11340332],\r\n",
      "         [ 0.        ,  0.04995728, -0.01029968, ..., -2.13867188,\r\n",
      "          -1.26074219,  0.14892578],\r\n",
      "         [ 0.00595856,  0.02943420, -0.01202393, ..., -2.14062500,\r\n",
      "          -1.25683594,  0.15771484],\r\n",
      "         [-0.00201035,  0.01597595, -0.02032471, ..., -2.14257812,\r\n",
      "          -1.25781250,  0.14001465]],\r\n",
      "\r\n",
      "        [[ 0.00332832,  0.01324463,  0.        , ..., -1.03515625,\r\n",
      "           1.99316406, -1.30078125],\r\n",
      "         [ 0.        ,  0.        , -0.01329041, ..., -1.03613281,\r\n",
      "           1.98242188, -1.31933594],\r\n",
      "         [ 0.00330544,  0.03256226,  0.        , ..., -1.03710938,\r\n",
      "           1.97753906, -1.31347656],\r\n",
      "         [-0.00322151,  0.        , -0.00969696, ..., -1.03808594,\r\n",
      "           1.96484375, -1.30664062],\r\n",
      "         [ 0.00643158,  0.03173828,  0.00643158, ..., -1.03613281,\r\n",
      "           1.95019531, -1.28417969]],\r\n",
      "\r\n",
      "        [[ 0.01195526,  0.01535034, -0.01907349, ..., -1.81250000,\r\n",
      "          -2.47656250,  0.80712891],\r\n",
      "         [ 0.02592468,  0.09515381,  0.01736450, ..., -1.81933594,\r\n",
      "          -2.48437500,  0.83984375],\r\n",
      "         [ 0.09558105,  0.09558105,  0.04968262, ..., -1.81933594,\r\n",
      "          -2.50976562,  0.91992188],\r\n",
      "         [-0.01899719,  0.06579590, -0.03686523, ..., -1.81640625,\r\n",
      "          -2.50390625,  1.02539062],\r\n",
      "         [-0.05960083, -0.02935791, -0.08624268, ..., -1.81347656,\r\n",
      "          -2.50195312,  1.18554688]],\r\n",
      "\r\n",
      "        ...,\r\n",
      "\r\n",
      "        [[ 0.        ,  0.00335693, -0.05526733, ..., -1.73828125,\r\n",
      "          -0.25708008, -0.46948242],\r\n",
      "         [ 0.        ,  0.00872040, -0.02482605, ..., -1.74218750,\r\n",
      "          -0.25585938, -0.46508789],\r\n",
      "         [ 0.00178623,  0.00535202, -0.05139160, ..., -1.74707031,\r\n",
      "          -0.25341797, -0.45043945],\r\n",
      "         [-0.00184917,  0.01831055, -0.00370407, ..., -1.75292969,\r\n",
      "          -0.24926758, -0.44433594],\r\n",
      "         [-0.00369072,  0.00367355, -0.01483917, ..., -1.76269531,\r\n",
      "          -0.25585938, -0.44360352]],\r\n",
      "\r\n",
      "        [[ 0.00113297,  0.02299500, -0.04525757, ..., -1.37597656,\r\n",
      "          -0.04263306,  0.80566406],\r\n",
      "         [ 0.00176620,  0.05108643, -0.01244354, ..., -1.37500000,\r\n",
      "          -0.03802490,  0.79833984],\r\n",
      "         [ 0.        ,  0.00936890, -0.04818726, ..., -1.37402344,\r\n",
      "          -0.03546143,  0.70751953],\r\n",
      "         [ 0.00902557,  0.08404541,  0.00060463, ..., -1.37500000,\r\n",
      "          -0.03598022,  0.67919922],\r\n",
      "         [ 0.00458527,  0.02886963, -0.01679993, ..., -1.37207031,\r\n",
      "          -0.03338623,  0.65429688]],\r\n",
      "\r\n",
      "        [[-0.01049805,  0.03863525, -0.02323914, ..., -1.25195312,\r\n",
      "          -1.13671875,  1.30859375],\r\n",
      "         [ 0.01977539,  0.02804565, -0.01402283, ..., -1.24511719,\r\n",
      "          -1.13867188,  1.36035156],\r\n",
      "         [-0.00637054,  0.09539795, -0.00637054, ..., -1.23437500,\r\n",
      "          -1.14257812,  1.37988281],\r\n",
      "         [ 0.01690674,  0.01690674, -0.04095459, ..., -1.23339844,\r\n",
      "          -1.14355469,  1.42968750],\r\n",
      "         [-0.00591660,  0.09222412, -0.01985168, ..., -1.22656250,\r\n",
      "          -1.14453125,  1.47265625]]])\r\n",
      "Labels: Tensor(shape=[2048, 1], dtype=float32, place=Place(gpu_pinned), stop_gradient=True,\r\n",
      "       [[0.00955200],\r\n",
      "        [0.02435303],\r\n",
      "        [0.26220703],\r\n",
      "        ...,\r\n",
      "        [0.04574585],\r\n",
      "        [0.13415527],\r\n",
      "        [0.01341248]])\r\n"
     ]
    }
   ],
   "source": [
    "# 查看训练集\n",
    "for batch in train_loader:\n",
    "    features, labels = batch\n",
    "    print(\"Features:\", features)\n",
    "    print(\"Labels:\", labels)\n",
    "    break"
   ]
  },
  {
   "cell_type": "code",
   "execution_count": 55,
   "metadata": {
    "execution": {
     "iopub.execute_input": "2023-08-21T15:24:58.872757Z",
     "iopub.status.busy": "2023-08-21T15:24:58.872473Z",
     "iopub.status.idle": "2023-08-21T15:24:59.717621Z",
     "shell.execute_reply": "2023-08-21T15:24:59.716617Z",
     "shell.execute_reply.started": "2023-08-21T15:24:58.872737Z"
    },
    "scrolled": true
   },
   "outputs": [],
   "source": [
    "for data, label in train_loader:\n",
    "    break"
   ]
  },
  {
   "cell_type": "code",
   "execution_count": 56,
   "metadata": {
    "execution": {
     "iopub.execute_input": "2023-08-21T15:25:01.719311Z",
     "iopub.status.busy": "2023-08-21T15:25:01.719045Z",
     "iopub.status.idle": "2023-08-21T15:25:01.724137Z",
     "shell.execute_reply": "2023-08-21T15:25:01.723690Z",
     "shell.execute_reply.started": "2023-08-21T15:25:01.719293Z"
    },
    "scrolled": true
   },
   "outputs": [
    {
     "data": {
      "text/plain": [
       "([2048, 5, 77], [2048, 1])"
      ]
     },
     "execution_count": 56,
     "metadata": {},
     "output_type": "execute_result"
    }
   ],
   "source": [
    "# 确定形状正确，尤其label得是二维数组\n",
    "data.shape, label.shape"
   ]
  },
  {
   "cell_type": "code",
   "execution_count": 133,
   "metadata": {
    "execution": {
     "iopub.execute_input": "2023-08-21T04:59:49.521357Z",
     "iopub.status.busy": "2023-08-21T04:59:49.520997Z",
     "iopub.status.idle": "2023-08-21T04:59:49.538118Z",
     "shell.execute_reply": "2023-08-21T04:59:49.537647Z",
     "shell.execute_reply.started": "2023-08-21T04:59:49.521333Z"
    },
    "scrolled": true
   },
   "outputs": [
    {
     "name": "stdout",
     "output_type": "stream",
     "text": [
      "---------------------------------------------------------------------------------------------------\r\n",
      " Layer (type)       Input Shape                      Output Shape                     Param #    \r\n",
      "===================================================================================================\r\n",
      "   Conv1D-21       [[10, 5, 83]]                     [10, 20, 81]                       320      \r\n",
      "    ReLU-41        [[10, 20, 81]]                    [10, 20, 81]                        0       \r\n",
      " MaxPool1D-21      [[10, 20, 81]]                    [10, 20, 27]                        0       \r\n",
      "   Conv1D-22       [[10, 20, 27]]                    [10, 20, 25]                      1,220     \r\n",
      "    ReLU-42        [[10, 20, 25]]                    [10, 20, 25]                        0       \r\n",
      " MaxPool1D-22      [[10, 20, 25]]                    [10, 20, 8]                         0       \r\n",
      "  Flatten-11       [[10, 20, 8]]                      [10, 160]                          0       \r\n",
      "    LSTM-11        [[10, 5, 83]]     [[10, 5, 128], [[2, 10, 128], [2, 10, 128]]]     241,152    \r\n",
      "   Linear-31        [[10, 371]]                       [10, 512]                       190,464    \r\n",
      "    ReLU-43         [[10, 512]]                       [10, 512]                          0       \r\n",
      "   Linear-32        [[10, 512]]                       [10, 512]                       262,656    \r\n",
      "    ReLU-44         [[10, 512]]                       [10, 512]                          0       \r\n",
      "  Dropout-11        [[10, 512]]                       [10, 512]                          0       \r\n",
      "   Linear-33        [[10, 512]]                        [10, 1]                          513      \r\n",
      "    Tanh-11          [[10, 1]]                         [10, 1]                           0       \r\n",
      "===================================================================================================\r\n",
      "Total params: 696,325\r\n",
      "Trainable params: 696,325\r\n",
      "Non-trainable params: 0\r\n",
      "---------------------------------------------------------------------------------------------------\r\n",
      "Input size (MB): 0.02\r\n",
      "Forward/backward pass size (MB): 0.67\r\n",
      "Params size (MB): 2.66\r\n",
      "Estimated Total Size (MB): 3.34\r\n",
      "---------------------------------------------------------------------------------------------------\r\n",
      "\r\n"
     ]
    }
   ],
   "source": [
    "# model搭建\n",
    "class Model3(nn.Layer):\n",
    "    def __init__(self):\n",
    "        super(Model3, self).__init__()\n",
    "\n",
    "        self.cnn_layer = nn.Sequential(\n",
    "            nn.Conv1D(5, 20, 3),\n",
    "            nn.ReLU(),\n",
    "            nn.MaxPool1D(3),\n",
    "            nn.Conv1D(20, 20, 3),\n",
    "            nn.ReLU(),\n",
    "            nn.MaxPool1D(3),\n",
    "            nn.Flatten(),\n",
    "        )\n",
    "\n",
    "        self.lstm_layer = nn.LSTM(83, 128, 2)\n",
    "\n",
    "        self.fc_layer = nn.Sequential(\n",
    "            nn.Linear(50 + 12 + 181 + 128, 512, weight_attr=nn.initializer.KaimingNormal()),\n",
    "            nn.ReLU(),\n",
    "            nn.Linear(512, 512, weight_attr=nn.initializer.KaimingNormal()),\n",
    "            nn.ReLU(),\n",
    "            nn.Dropout(0.5),\n",
    "            nn.Linear(512, 1, weight_attr=nn.initializer.KaimingNormal()),\n",
    "            nn.Tanh()\n",
    "        )\n",
    "        \n",
    "    def forward(self, data):\n",
    "        x1 = self.cnn_layer(data)\n",
    "\n",
    "        x2, _ = self.lstm_layer(data)\n",
    "        x2 = x2[:, -1, :]\n",
    "\n",
    "        x3 = paddle.concat([x1, x2, data[:, -1, :]], 1)\n",
    "        out = self.fc_layer(x3)\n",
    "        return out\n",
    "\n",
    "model = Model3()\n",
    "paddle.summary(model, (10, 5, 83))\n",
    "\n",
    "model = paddle.Model(model)\n",
    "model.prepare(optimizer=paddle.optimizer.Adam(learning_rate=0.0001, parameters=model.parameters()), \n",
    "              loss=paddle.nn.MSELoss())"
   ]
  },
  {
   "cell_type": "code",
   "execution_count": 58,
   "metadata": {
    "execution": {
     "iopub.execute_input": "2023-08-21T15:25:47.531463Z",
     "iopub.status.busy": "2023-08-21T15:25:47.531096Z",
     "iopub.status.idle": "2023-08-21T15:25:47.569098Z",
     "shell.execute_reply": "2023-08-21T15:25:47.568613Z",
     "shell.execute_reply.started": "2023-08-21T15:25:47.531440Z"
    },
    "scrolled": true
   },
   "outputs": [
    {
     "name": "stdout",
     "output_type": "stream",
     "text": [
      "-------------------------------------------------------------------------------------------------\r\n",
      " Layer (type)       Input Shape                     Output Shape                    Param #    \r\n",
      "=================================================================================================\r\n",
      "    LSTM-10         [[10, 5, 1]]       [[10, 5, 2], [[8, 10, 1], [8, 10, 1]]]         152      \r\n",
      "   Conv2D-5       [[10, 1, 5, 77]]                 [10, 1, 4, 76]                      5       \r\n",
      " BatchNorm2D-5    [[10, 1, 4, 76]]                 [10, 1, 4, 76]                      4       \r\n",
      "  Dropout-25      [[10, 1, 4, 76]]                 [10, 1, 4, 76]                      0       \r\n",
      "    ReLU-25       [[10, 1, 4, 76]]                 [10, 1, 4, 76]                      0       \r\n",
      "  MaxPool2D-5     [[10, 1, 4, 76]]                 [10, 1, 2, 38]                      0       \r\n",
      "   Conv1D-5        [[10, 77, 5]]                    [10, 77, 5]                      6,006     \r\n",
      "BatchNorm1D-20     [[10, 77, 5]]                    [10, 77, 5]                       308      \r\n",
      "  Dropout-24       [[10, 77, 5]]                    [10, 77, 5]                        0       \r\n",
      "    ReLU-24        [[10, 77, 5]]                    [10, 77, 5]                        0       \r\n",
      "  MaxPool1D-5      [[10, 77, 5]]                    [10, 77, 2]                        0       \r\n",
      "    LSTM-9         [[10, 2, 77]]     [[10, 2, 154], [[2, 10, 77], [2, 10, 77]]]     96,096     \r\n",
      "   Linear-17        [[10, 424]]                      [10, 400]                      170,000    \r\n",
      "BatchNorm1D-17      [[10, 400]]                      [10, 400]                       1,600     \r\n",
      "    ReLU-21         [[10, 400]]                      [10, 400]                         0       \r\n",
      "  Dropout-21        [[10, 400]]                      [10, 400]                         0       \r\n",
      "   Linear-18        [[10, 400]]                      [10, 200]                      80,200     \r\n",
      "BatchNorm1D-18      [[10, 200]]                      [10, 200]                        800      \r\n",
      "    ReLU-22         [[10, 200]]                      [10, 200]                         0       \r\n",
      "  Dropout-22        [[10, 200]]                      [10, 200]                         0       \r\n",
      "   Linear-19        [[10, 200]]                      [10, 100]                      20,100     \r\n",
      "BatchNorm1D-19      [[10, 100]]                      [10, 100]                        400      \r\n",
      "    ReLU-23         [[10, 100]]                      [10, 100]                         0       \r\n",
      "  Dropout-23        [[10, 100]]                      [10, 100]                         0       \r\n",
      "   Linear-20        [[10, 100]]                       [10, 1]                         101      \r\n",
      "=================================================================================================\r\n",
      "Total params: 375,772\r\n",
      "Trainable params: 374,216\r\n",
      "Non-trainable params: 1,556\r\n",
      "-------------------------------------------------------------------------------------------------\r\n",
      "Input size (MB): 0.01\r\n",
      "Forward/backward pass size (MB): 0.49\r\n",
      "Params size (MB): 1.43\r\n",
      "Estimated Total Size (MB): 1.94\r\n",
      "-------------------------------------------------------------------------------------------------\r\n",
      "\r\n"
     ]
    }
   ],
   "source": [
    "weight_ini = nn.initializer.KaimingNormal()\r\n",
    "class model(nn.Layer):\r\n",
    "\r\n",
    "    def __init__(self,\r\n",
    "                fc1_size=400,\r\n",
    "                fc2_size=200,\r\n",
    "                fc3_size=100,\r\n",
    "                fc1_dropout=0.2,\r\n",
    "                fc2_dropout=0.2,\r\n",
    "                fc3_dropout=0.2):\r\n",
    "                # num_of_classes=50):\r\n",
    "        super(model, self).__init__()\r\n",
    "\r\n",
    "        self.f_model = nn.Sequential(\r\n",
    "            nn.Linear(424, fc1_size,weight_attr=weight_ini),  # 887\r\n",
    "            nn.BatchNorm1D(fc1_size),\r\n",
    "            nn.ReLU(),\r\n",
    "            nn.Dropout(fc1_dropout),\r\n",
    "            nn.Linear(fc1_size, fc2_size,weight_attr=weight_ini),\r\n",
    "            nn.BatchNorm1D(fc2_size),\r\n",
    "            nn.ReLU(),\r\n",
    "            nn.Dropout(fc2_dropout),\r\n",
    "            nn.Linear(fc2_size, fc3_size,weight_attr=weight_ini),\r\n",
    "            nn.BatchNorm1D(fc3_size),\r\n",
    "            nn.ReLU(),\r\n",
    "            nn.Dropout(fc3_dropout),\r\n",
    "            nn.Linear(fc3_size, 1,weight_attr=weight_ini),\r\n",
    "        )\r\n",
    "\r\n",
    "        self.conv_layers1 = nn.Sequential(\r\n",
    "            nn.Conv1D(77, 77, kernel_size=1,weight_attr=weight_ini),\r\n",
    "            nn.BatchNorm1D(77),\r\n",
    "            nn.Dropout(fc3_dropout),\r\n",
    "            nn.ReLU(),\r\n",
    "            nn.MaxPool1D(kernel_size=2),\r\n",
    "        )\r\n",
    "        self.conv_2D = nn.Sequential(\r\n",
    "            nn.Conv2D(1, 1, kernel_size=2,weight_attr=weight_ini),\r\n",
    "            nn.BatchNorm2D(1),\r\n",
    "            nn.Dropout(fc3_dropout),\r\n",
    "            nn.ReLU(),\r\n",
    "            nn.MaxPool2D(kernel_size=2),\r\n",
    "        )\r\n",
    "        hidden_dim = 77\r\n",
    "        self.lstm = nn.LSTM(input_size=hidden_dim, hidden_size=hidden_dim, num_layers=1, \r\n",
    "                        time_major=False,\r\n",
    "                        # batch_first=True,\r\n",
    "                        # dropout=fc3_dropout,\r\n",
    "                        direction='bidirect')\r\n",
    "\r\n",
    "        hidden_dim = 1\r\n",
    "        self.l = nn.LSTM(input_size=hidden_dim, hidden_size=hidden_dim, num_layers=4, \r\n",
    "                        time_major=False,\r\n",
    "                        # batch_first=True,\r\n",
    "                        # dropout=fc3_dropout,\r\n",
    "                        direction='bidirect')\r\n",
    "\r\n",
    "        # for name, module in self.named_modules():\r\n",
    "        #     if isinstance(module, nn.Linear):\r\n",
    "        #         nn.init.kaiming_normal_(module.weight, mode='fan_in', nonlinearity='relu')\r\n",
    "        #     if isinstance(module, nn.Conv2d):\r\n",
    "        #         nn.init.kaiming_normal_(module.weight, mode='fan_in', nonlinearity='relu')\r\n",
    "        #     if isinstance(module, nn.Conv1d):\r\n",
    "        #         nn.init.kaiming_normal_(module.weight, mode='fan_in', nonlinearity='relu')\r\n",
    "\r\n",
    "    def forward(self, x):\r\n",
    "    \r\n",
    "        HSS = paddle.slice(x, axes=[-1], starts=[0], ends=[1]).squeeze(1)\r\n",
    "        HSS = paddle.reshape(HSS, (HSS.shape[0], HSS.shape[1] * HSS.shape[2]))\r\n",
    "        ZF = paddle.slice(x, axes=[-1], starts=[1], ends=[2]).squeeze(1)\r\n",
    "        ZF = paddle.reshape(ZF, (ZF.shape[0], ZF.shape[1] * ZF.shape[2]))\r\n",
    "\r\n",
    "        apply = paddle.slice(x, axes=[-1], starts=[2], ends=[3]).squeeze(1)\r\n",
    "        redeem = paddle.slice(x, axes=[-1], starts=[3], ends=[4]).squeeze(1)\r\n",
    "        apply, _ = self.l(apply)\r\n",
    "        redeem, _ = self.l(redeem)\r\n",
    "        apply = paddle.reshape(apply, (apply.shape[0], apply.shape[1] * apply.shape[2]))\r\n",
    "        redeem = paddle.reshape(redeem, (redeem.shape[0], redeem.shape[1] * redeem.shape[2]))\r\n",
    "\r\n",
    "        ZFF = paddle.slice(x, axes=[-1], starts=[4], ends=[5]).squeeze(1)\r\n",
    "        HS = paddle.slice(x, axes=[-1], starts=[6], ends=[7]).squeeze(1)\r\n",
    "        ZFF, _ = self.l(ZFF)\r\n",
    "        HS, _ = self.l(HS)\r\n",
    "        ZFF = paddle.reshape(ZFF, (ZFF.shape[0], ZFF.shape[1] * ZFF.shape[2]))\r\n",
    "        HS = paddle.reshape(HS, (HS.shape[0], HS.shape[1] * HS.shape[2]))\r\n",
    "\r\n",
    "        min_vals = paddle.min(x, axis=1, keepdim=True)\r\n",
    "        max_vals = paddle.max(x, axis=1, keepdim=True)\r\n",
    "        x = (x - min_vals) / (max_vals - min_vals + 0.00001)\r\n",
    "\r\n",
    "        xx = paddle.unsqueeze(x,axis=1)\r\n",
    "        xx = self.conv_2D(xx)\r\n",
    "\r\n",
    "        xx = paddle.reshape(xx, (xx.shape[0], xx.shape[1] * xx.shape[2] * xx.shape[3]))\r\n",
    "\r\n",
    "        x = paddle.transpose(x,perm=[0, 2, 1])\r\n",
    "        x = self.conv_layers1(x)\r\n",
    "        out = paddle.transpose(x,perm=[0, 2, 1])\r\n",
    "        out2, _ = self.lstm(out)\r\n",
    "\r\n",
    "        out2 = paddle.reshape(out2, (out2.shape[0], out2.shape[1] * out2.shape[2]))\r\n",
    "\r\n",
    "        # IN = torch.cat((xx, out2, end, apply, redeem, ZF, ZFF, HS, ma10, macd), dim=1)\r\n",
    "        IN = paddle.concat((xx, out2, apply, redeem, ZF, ZFF, HSS), axis=1)\r\n",
    "        out = self.f_model(IN)\r\n",
    "        return out\r\n",
    "\r\n",
    "\r\n",
    "model = model()\r\n",
    "paddle.summary(model,(10,5,77))\r\n",
    "\r\n",
    "model = paddle.Model(model)\r\n",
    "model.prepare(optimizer=paddle.optimizer.Adam(learning_rate=0.0001, parameters=model.parameters()), \r\n",
    "              loss=paddle.nn.MSELoss())"
   ]
  },
  {
   "cell_type": "code",
   "execution_count": 60,
   "metadata": {
    "execution": {
     "iopub.execute_input": "2023-08-21T15:27:54.972577Z",
     "iopub.status.busy": "2023-08-21T15:27:54.972196Z",
     "iopub.status.idle": "2023-08-21T15:37:31.803425Z",
     "shell.execute_reply": "2023-08-21T15:37:31.802672Z",
     "shell.execute_reply.started": "2023-08-21T15:27:54.972550Z"
    },
    "scrolled": true,
    "tags": []
   },
   "outputs": [
    {
     "name": "stdout",
     "output_type": "stream",
     "text": [
      "The loss value printed in the log is the current step, and the metric is the average value of previous steps.\r\n",
      "Epoch 1/10\r\n"
     ]
    },
    {
     "name": "stderr",
     "output_type": "stream",
     "text": [
      "/opt/conda/envs/python35-paddle120-env/lib/python3.10/site-packages/paddle/nn/layer/norm.py:777: UserWarning: When training, we now always track global mean and variance.\r\n",
      "  warnings.warn(\r\n"
     ]
    },
    {
     "name": "stdout",
     "output_type": "stream",
     "text": [
      "step 1484/1484 [==============================] - loss: 0.0273 - 34ms/step          \r\n",
      "Eval begin...\r\n",
      "step 371/371 [==============================] - loss: 0.0131 - 19ms/step          \r\n",
      "Eval samples: 1519532\r\n",
      "Epoch 2/10\r\n"
     ]
    },
    {
     "name": "stderr",
     "output_type": "stream",
     "text": [
      "/opt/conda/envs/python35-paddle120-env/lib/python3.10/site-packages/paddle/nn/layer/norm.py:777: UserWarning: When training, we now always track global mean and variance.\r\n",
      "  warnings.warn(\r\n"
     ]
    },
    {
     "name": "stdout",
     "output_type": "stream",
     "text": [
      "step 1484/1484 [==============================] - loss: 0.0143 - 34ms/step          \r\n",
      "Eval begin...\r\n",
      "step 371/371 [==============================] - loss: 0.0124 - 18ms/step          \r\n",
      "Eval samples: 1519532\r\n",
      "Epoch 3/10\r\n"
     ]
    },
    {
     "name": "stderr",
     "output_type": "stream",
     "text": [
      "/opt/conda/envs/python35-paddle120-env/lib/python3.10/site-packages/paddle/nn/layer/norm.py:777: UserWarning: When training, we now always track global mean and variance.\r\n",
      "  warnings.warn(\r\n"
     ]
    },
    {
     "name": "stdout",
     "output_type": "stream",
     "text": [
      "step 1484/1484 [==============================] - loss: 0.0133 - 34ms/step          \r\n",
      "Eval begin...\r\n",
      "step 371/371 [==============================] - loss: 0.0122 - 18ms/step          \r\n",
      "Eval samples: 1519532\r\n",
      "Epoch 4/10\r\n"
     ]
    },
    {
     "name": "stderr",
     "output_type": "stream",
     "text": [
      "/opt/conda/envs/python35-paddle120-env/lib/python3.10/site-packages/paddle/nn/layer/norm.py:777: UserWarning: When training, we now always track global mean and variance.\r\n",
      "  warnings.warn(\r\n"
     ]
    },
    {
     "name": "stdout",
     "output_type": "stream",
     "text": [
      "step 1484/1484 [==============================] - loss: 0.0136 - 33ms/step          \r\n",
      "Eval begin...\r\n",
      "step 371/371 [==============================] - loss: 0.0121 - 20ms/step          \r\n",
      "Eval samples: 1519532\r\n",
      "Epoch 5/10\r\n"
     ]
    },
    {
     "name": "stderr",
     "output_type": "stream",
     "text": [
      "/opt/conda/envs/python35-paddle120-env/lib/python3.10/site-packages/paddle/nn/layer/norm.py:777: UserWarning: When training, we now always track global mean and variance.\r\n",
      "  warnings.warn(\r\n"
     ]
    },
    {
     "name": "stdout",
     "output_type": "stream",
     "text": [
      "step 1484/1484 [==============================] - loss: 0.0114 - 35ms/step          \r\n",
      "Eval begin...\r\n",
      "step 371/371 [==============================] - loss: 0.0120 - 17ms/step          \r\n",
      "Eval samples: 1519532\r\n",
      "Epoch 6/10\r\n"
     ]
    },
    {
     "name": "stderr",
     "output_type": "stream",
     "text": [
      "/opt/conda/envs/python35-paddle120-env/lib/python3.10/site-packages/paddle/nn/layer/norm.py:777: UserWarning: When training, we now always track global mean and variance.\r\n",
      "  warnings.warn(\r\n"
     ]
    },
    {
     "name": "stdout",
     "output_type": "stream",
     "text": [
      "step 1484/1484 [==============================] - loss: 0.0110 - 35ms/step          \r\n",
      "Eval begin...\r\n",
      "step 371/371 [==============================] - loss: 0.0119 - 16ms/step          \r\n",
      "Eval samples: 1519532\r\n",
      "Epoch 7/10\r\n"
     ]
    },
    {
     "name": "stderr",
     "output_type": "stream",
     "text": [
      "/opt/conda/envs/python35-paddle120-env/lib/python3.10/site-packages/paddle/nn/layer/norm.py:777: UserWarning: When training, we now always track global mean and variance.\r\n",
      "  warnings.warn(\r\n"
     ]
    },
    {
     "name": "stdout",
     "output_type": "stream",
     "text": [
      "step 1484/1484 [==============================] - loss: 0.0111 - 33ms/step          \r\n",
      "Eval begin...\r\n",
      "step 371/371 [==============================] - loss: 0.0119 - 19ms/step          \r\n",
      "Eval samples: 1519532\r\n",
      "Epoch 8/10\r\n"
     ]
    },
    {
     "name": "stderr",
     "output_type": "stream",
     "text": [
      "/opt/conda/envs/python35-paddle120-env/lib/python3.10/site-packages/paddle/nn/layer/norm.py:777: UserWarning: When training, we now always track global mean and variance.\r\n",
      "  warnings.warn(\r\n"
     ]
    },
    {
     "name": "stdout",
     "output_type": "stream",
     "text": [
      "step 1484/1484 [==============================] - loss: 0.0107 - 34ms/step          \r\n",
      "Eval begin...\r\n",
      "step 371/371 [==============================] - loss: 0.0119 - 17ms/step          \r\n",
      "Eval samples: 1519532\r\n",
      "Epoch 9/10\r\n"
     ]
    },
    {
     "name": "stderr",
     "output_type": "stream",
     "text": [
      "/opt/conda/envs/python35-paddle120-env/lib/python3.10/site-packages/paddle/nn/layer/norm.py:777: UserWarning: When training, we now always track global mean and variance.\r\n",
      "  warnings.warn(\r\n"
     ]
    },
    {
     "name": "stdout",
     "output_type": "stream",
     "text": [
      "step 1484/1484 [==============================] - loss: 0.0098 - 36ms/step          \r\n",
      "Eval begin...\r\n",
      "step 371/371 [==============================] - loss: 0.0119 - 17ms/step          \r\n",
      "Eval samples: 1519532\r\n",
      "Epoch 10/10\r\n"
     ]
    },
    {
     "name": "stderr",
     "output_type": "stream",
     "text": [
      "/opt/conda/envs/python35-paddle120-env/lib/python3.10/site-packages/paddle/nn/layer/norm.py:777: UserWarning: When training, we now always track global mean and variance.\r\n",
      "  warnings.warn(\r\n"
     ]
    },
    {
     "name": "stdout",
     "output_type": "stream",
     "text": [
      "step 1484/1484 [==============================] - loss: 0.0120 - 36ms/step          \r\n",
      "Eval begin...\r\n",
      "step 371/371 [==============================] - loss: 0.0119 - 18ms/step          \r\n",
      "Eval samples: 1519532\r\n"
     ]
    }
   ],
   "source": [
    "# 启动模型训练，指定训练数据集，设置训练轮次，设置每次数据集计算的批次大小，设置日志格式\n",
    "model.fit(train_dataset, val_dataset,\n",
    "          epochs=10, \n",
    "          batch_size=4096,\n",
    "          verbose=1)"
   ]
  },
  {
   "cell_type": "code",
   "execution_count": 61,
   "metadata": {
    "execution": {
     "iopub.execute_input": "2023-08-21T15:37:33.995995Z",
     "iopub.status.busy": "2023-08-21T15:37:33.995634Z",
     "iopub.status.idle": "2023-08-21T15:37:34.056124Z",
     "shell.execute_reply": "2023-08-21T15:37:34.055565Z",
     "shell.execute_reply.started": "2023-08-21T15:37:33.995972Z"
    },
    "scrolled": true,
    "tags": []
   },
   "outputs": [],
   "source": [
    "# 将model载入本地并保存model\n",
    "model.save(\"model\", True)\n",
    "model.load(\"model\")"
   ]
  },
  {
   "cell_type": "code",
   "execution_count": 62,
   "metadata": {
    "execution": {
     "iopub.execute_input": "2023-08-21T15:37:41.083894Z",
     "iopub.status.busy": "2023-08-21T15:37:41.083522Z",
     "iopub.status.idle": "2023-08-21T15:37:41.089660Z",
     "shell.execute_reply": "2023-08-21T15:37:41.089153Z",
     "shell.execute_reply.started": "2023-08-21T15:37:41.083871Z"
    },
    "scrolled": true
   },
   "outputs": [],
   "source": [
    "# 生成预测数据集\n",
    "test_dataset = CustomDataset(\n",
    "    test_dataset_pre,\n",
    "    np.zeros((test_dataset_pre.shape[0])),\n",
    ")\n"
   ]
  },
  {
   "cell_type": "code",
   "execution_count": 63,
   "metadata": {
    "execution": {
     "iopub.execute_input": "2023-08-21T15:37:43.244288Z",
     "iopub.status.busy": "2023-08-21T15:37:43.243954Z",
     "iopub.status.idle": "2023-08-21T15:37:43.247414Z",
     "shell.execute_reply": "2023-08-21T15:37:43.246915Z",
     "shell.execute_reply.started": "2023-08-21T15:37:43.244268Z"
    },
    "scrolled": true
   },
   "outputs": [],
   "source": [
    "test_loader = DataLoader(test_dataset,\n",
    "                    batch_size=4096,\n",
    "                    shuffle=True,\n",
    "                    num_workers=1)"
   ]
  },
  {
   "cell_type": "code",
   "execution_count": 64,
   "metadata": {
    "execution": {
     "iopub.execute_input": "2023-08-21T15:37:44.898294Z",
     "iopub.status.busy": "2023-08-21T15:37:44.897947Z",
     "iopub.status.idle": "2023-08-21T15:37:45.215442Z",
     "shell.execute_reply": "2023-08-21T15:37:45.214586Z",
     "shell.execute_reply.started": "2023-08-21T15:37:44.898273Z"
    },
    "scrolled": true
   },
   "outputs": [
    {
     "name": "stdout",
     "output_type": "stream",
     "text": [
      "Features: Tensor(shape=[4096, 5, 77], dtype=float32, place=Place(gpu_pinned), stop_gradient=True,\r\n",
      "       [[[-0.00516129,  0.00371933, -0.02935791, ..., -1.17089844,\r\n",
      "          -1.03515625,  2.31250000],\r\n",
      "         [ 0.00344849,  0.04287720, -0.00382423, ..., -1.17089844,\r\n",
      "          -1.03125000,  2.30078125],\r\n",
      "         [-0.00648117,  0.10925293, -0.01885986, ..., -1.17382812,\r\n",
      "          -1.03027344,  2.30859375],\r\n",
      "         [-0.00290489,  0.09875488, -0.00290489, ..., -1.16992188,\r\n",
      "          -1.03125000,  2.31835938],\r\n",
      "         [-0.01062775,  0.00220108, -0.03268433, ..., -1.17187500,\r\n",
      "          -1.03027344,  2.33789062]],\r\n",
      "\r\n",
      "        [[ 0.00038338,  0.00498199, -0.03558350, ..., -1.88183594,\r\n",
      "          -1.15234375,  0.15930176],\r\n",
      "         [-0.00397873,  0.00475311, -0.01641846, ..., -1.87988281,\r\n",
      "          -1.15234375,  0.14489746],\r\n",
      "         [ 0.00080109,  0.01390076, -0.01571655, ..., -1.87890625,\r\n",
      "          -1.15136719,  0.13342285],\r\n",
      "         [-0.00518036,  0.02241516, -0.00518036, ..., -1.87792969,\r\n",
      "          -1.15136719,  0.10052490],\r\n",
      "         [ 0.        ,  0.02984619, -0.02873230, ..., -1.87597656,\r\n",
      "          -1.14941406,  0.07116699]],\r\n",
      "\r\n",
      "        [[ 0.00776672,  0.00776672, -0.01098633, ..., -1.88671875,\r\n",
      "          -0.16418457,  0.62744141],\r\n",
      "         [-0.00157356,  0.01557922, -0.00472260, ..., -1.88476562,\r\n",
      "          -0.16088867,  0.61621094],\r\n",
      "         [ 0.00934601,  0.01244354, -0.00156879, ..., -1.88378906,\r\n",
      "          -0.15588379,  0.61767578],\r\n",
      "         [ 0.        ,  0.        , -0.01727295, ..., -1.88378906,\r\n",
      "          -0.15454102,  0.61083984],\r\n",
      "         [ 0.00313568,  0.00625992, -0.00946045, ..., -1.88183594,\r\n",
      "          -0.15124512,  0.60253906]],\r\n",
      "\r\n",
      "        ...,\r\n",
      "\r\n",
      "        [[ 0.00234985,  0.01710510, -0.00905609, ..., -1.18652344,\r\n",
      "          -0.76708984, -0.64013672],\r\n",
      "         [ 0.        ,  0.00354385, -0.04190063, ..., -1.18750000,\r\n",
      "          -0.76562500, -0.64257812],\r\n",
      "         [ 0.00367355,  0.01582336, -0.00204849, ..., -1.18945312,\r\n",
      "          -0.76318359, -0.61035156],\r\n",
      "         [ 0.00286484,  0.00653458, -0.02070618, ..., -1.19238281,\r\n",
      "          -0.76269531, -0.58203125],\r\n",
      "         [-0.00040889,  0.02619934, -0.00820160, ..., -1.19433594,\r\n",
      "          -0.76074219, -0.53125000]],\r\n",
      "\r\n",
      "        [[ 0.06149292,  0.07312012,  0.01235962, ..., -1.79589844,\r\n",
      "          -0.21972656,  0.09765625],\r\n",
      "         [ 0.00245094,  0.00976562, -0.01733398, ..., -1.79492188,\r\n",
      "          -0.21887207,  0.10266113],\r\n",
      "         [ 0.00247765,  0.03054810,  0.00247765, ..., -1.79199219,\r\n",
      "          -0.21887207,  0.13110352],\r\n",
      "         [ 0.        ,  0.01204681, -0.02578735, ..., -1.79296875,\r\n",
      "          -0.21948242,  0.15063477],\r\n",
      "         [ 0.        ,  0.01234436, -0.00873566, ..., -1.79101562,\r\n",
      "          -0.22045898,  0.14453125]],\r\n",
      "\r\n",
      "        [[ 0.00820923,  0.02774048, -0.00485992, ..., -1.12988281,\r\n",
      "          -0.21972656,  0.01022339],\r\n",
      "         [-0.00381279, -0.00142765, -0.04174805, ..., -1.12988281,\r\n",
      "          -0.22253418,  0.01394653],\r\n",
      "         [ 0.00786591,  0.01713562, -0.00445175, ..., -1.12792969,\r\n",
      "          -0.22473145,  0.02548218],\r\n",
      "         [ 0.        ,  0.00195885, -0.02331543, ..., -1.12695312,\r\n",
      "          -0.22265625, -0.00982666],\r\n",
      "         [-0.00449753,  0.00447464, -0.01811218, ..., -1.12890625,\r\n",
      "          -0.21972656,  0.00147629]]])\r\n",
      "Labels: Tensor(shape=[4096, 1], dtype=float64, place=Place(gpu_pinned), stop_gradient=True,\r\n",
      "       [[0.],\r\n",
      "        [0.],\r\n",
      "        [0.],\r\n",
      "        ...,\r\n",
      "        [0.],\r\n",
      "        [0.],\r\n",
      "        [0.]])\r\n"
     ]
    }
   ],
   "source": [
    "# 查看数据集信息\n",
    "for batch in test_loader:\n",
    "    features, labels = batch\n",
    "    print(\"Features:\", features)\n",
    "    print(\"Labels:\", labels)\n",
    "    break"
   ]
  },
  {
   "cell_type": "code",
   "execution_count": 65,
   "metadata": {
    "execution": {
     "iopub.execute_input": "2023-08-21T15:37:52.014949Z",
     "iopub.status.busy": "2023-08-21T15:37:52.014571Z",
     "iopub.status.idle": "2023-08-21T15:37:55.189353Z",
     "shell.execute_reply": "2023-08-21T15:37:55.188774Z",
     "shell.execute_reply.started": "2023-08-21T15:37:52.014928Z"
    },
    "scrolled": true
   },
   "outputs": [
    {
     "name": "stdout",
     "output_type": "stream",
     "text": [
      "Predict begin...\r\n",
      "step 143/143 [==============================] - 22ms/step          \r\n",
      "Predict samples: 584625\r\n"
     ]
    }
   ],
   "source": [
    "# 模型预测\n",
    "test_predict = model.predict(test_dataset, batch_size=4096, verbose=1)"
   ]
  },
  {
   "cell_type": "code",
   "execution_count": 66,
   "metadata": {
    "execution": {
     "iopub.execute_input": "2023-08-21T15:37:57.232008Z",
     "iopub.status.busy": "2023-08-21T15:37:57.231710Z",
     "iopub.status.idle": "2023-08-21T15:37:57.239482Z",
     "shell.execute_reply": "2023-08-21T15:37:57.239049Z",
     "shell.execute_reply.started": "2023-08-21T15:37:57.231991Z"
    },
    "scrolled": true
   },
   "outputs": [
    {
     "data": {
      "text/plain": [
       "array([ 0.0217219 ,  0.01734013,  0.00611214, ...,  0.00659618,\n",
       "       -0.004982  ,  0.00890046], dtype=float32)"
      ]
     },
     "execution_count": 66,
     "metadata": {},
     "output_type": "execute_result"
    }
   ],
   "source": [
    "# 拼接预测数据\n",
    "test_predict = np.vstack(test_predict[0]).reshape(-1)\n",
    "test_predict"
   ]
  },
  {
   "cell_type": "code",
   "execution_count": 67,
   "metadata": {
    "execution": {
     "iopub.execute_input": "2023-08-21T15:37:59.662090Z",
     "iopub.status.busy": "2023-08-21T15:37:59.661760Z",
     "iopub.status.idle": "2023-08-21T15:38:00.664863Z",
     "shell.execute_reply": "2023-08-21T15:38:00.664406Z",
     "shell.execute_reply.started": "2023-08-21T15:37:59.662069Z"
    },
    "scrolled": true
   },
   "outputs": [
    {
     "data": {
      "text/plain": [
       "0.7010254436604662"
      ]
     },
     "execution_count": 67,
     "metadata": {},
     "output_type": "execute_result"
    }
   ],
   "source": [
    "# 查看正收益的占比，训练集的label占比约为46%，浮动明显可能有问题\n",
    "count = 0\n",
    "for i in test_predict:\n",
    "    if i > 0 :\n",
    "        count += 1\n",
    "count / len(test_predict)"
   ]
  },
  {
   "cell_type": "code",
   "execution_count": 68,
   "metadata": {
    "execution": {
     "iopub.execute_input": "2023-08-21T15:38:03.028512Z",
     "iopub.status.busy": "2023-08-21T15:38:03.028129Z",
     "iopub.status.idle": "2023-08-21T15:38:03.033120Z",
     "shell.execute_reply": "2023-08-21T15:38:03.032642Z",
     "shell.execute_reply.started": "2023-08-21T15:38:03.028488Z"
    },
    "scrolled": true
   },
   "outputs": [
    {
     "data": {
      "text/plain": [
       "(-0.15467526, 1.125408)"
      ]
     },
     "execution_count": 68,
     "metadata": {},
     "output_type": "execute_result"
    }
   ],
   "source": [
    "np.min(test_predict), np.max(test_predict)"
   ]
  },
  {
   "cell_type": "code",
   "execution_count": 69,
   "metadata": {
    "execution": {
     "iopub.execute_input": "2023-08-21T15:38:06.524208Z",
     "iopub.status.busy": "2023-08-21T15:38:06.523885Z",
     "iopub.status.idle": "2023-08-21T15:38:06.716615Z",
     "shell.execute_reply": "2023-08-21T15:38:06.716091Z",
     "shell.execute_reply.started": "2023-08-21T15:38:06.524186Z"
    },
    "scrolled": true
   },
   "outputs": [
    {
     "data": {
      "text/html": [
       "<div>\n",
       "<style scoped>\n",
       "    .dataframe tbody tr th:only-of-type {\n",
       "        vertical-align: middle;\n",
       "    }\n",
       "\n",
       "    .dataframe tbody tr th {\n",
       "        vertical-align: top;\n",
       "    }\n",
       "\n",
       "    .dataframe thead th {\n",
       "        text-align: right;\n",
       "    }\n",
       "</style>\n",
       "<table border=\"1\" class=\"dataframe\">\n",
       "  <thead>\n",
       "    <tr style=\"text-align: right;\">\n",
       "      <th></th>\n",
       "      <th>date</th>\n",
       "      <th>asset</th>\n",
       "      <th>weight</th>\n",
       "    </tr>\n",
       "  </thead>\n",
       "  <tbody>\n",
       "    <tr>\n",
       "      <th>0</th>\n",
       "      <td>20230103</td>\n",
       "      <td>000001.XSHE</td>\n",
       "      <td>0.021722</td>\n",
       "    </tr>\n",
       "    <tr>\n",
       "      <th>1</th>\n",
       "      <td>20230103</td>\n",
       "      <td>000002.XSHE</td>\n",
       "      <td>0.010170</td>\n",
       "    </tr>\n",
       "    <tr>\n",
       "      <th>2</th>\n",
       "      <td>20230103</td>\n",
       "      <td>000004.XSHE</td>\n",
       "      <td>0.009658</td>\n",
       "    </tr>\n",
       "    <tr>\n",
       "      <th>3</th>\n",
       "      <td>20230103</td>\n",
       "      <td>000005.XSHE</td>\n",
       "      <td>0.003017</td>\n",
       "    </tr>\n",
       "    <tr>\n",
       "      <th>4</th>\n",
       "      <td>20230103</td>\n",
       "      <td>000006.XSHE</td>\n",
       "      <td>0.023162</td>\n",
       "    </tr>\n",
       "    <tr>\n",
       "      <th>...</th>\n",
       "      <td>...</td>\n",
       "      <td>...</td>\n",
       "      <td>...</td>\n",
       "    </tr>\n",
       "    <tr>\n",
       "      <th>584620</th>\n",
       "      <td>20230630</td>\n",
       "      <td>688799.XSHG</td>\n",
       "      <td>0.001570</td>\n",
       "    </tr>\n",
       "    <tr>\n",
       "      <th>584621</th>\n",
       "      <td>20230630</td>\n",
       "      <td>688800.XSHG</td>\n",
       "      <td>-0.000388</td>\n",
       "    </tr>\n",
       "    <tr>\n",
       "      <th>584622</th>\n",
       "      <td>20230630</td>\n",
       "      <td>688819.XSHG</td>\n",
       "      <td>0.006793</td>\n",
       "    </tr>\n",
       "    <tr>\n",
       "      <th>584623</th>\n",
       "      <td>20230630</td>\n",
       "      <td>688981.XSHG</td>\n",
       "      <td>0.001501</td>\n",
       "    </tr>\n",
       "    <tr>\n",
       "      <th>584624</th>\n",
       "      <td>20230630</td>\n",
       "      <td>689009.XSHG</td>\n",
       "      <td>0.008900</td>\n",
       "    </tr>\n",
       "  </tbody>\n",
       "</table>\n",
       "<p>584625 rows × 3 columns</p>\n",
       "</div>"
      ],
      "text/plain": [
       "            date        asset    weight\n",
       "0       20230103  000001.XSHE  0.021722\n",
       "1       20230103  000002.XSHE  0.010170\n",
       "2       20230103  000004.XSHE  0.009658\n",
       "3       20230103  000005.XSHE  0.003017\n",
       "4       20230103  000006.XSHE  0.023162\n",
       "...          ...          ...       ...\n",
       "584620  20230630  688799.XSHG  0.001570\n",
       "584621  20230630  688800.XSHG -0.000388\n",
       "584622  20230630  688819.XSHG  0.006793\n",
       "584623  20230630  688981.XSHG  0.001501\n",
       "584624  20230630  689009.XSHG  0.008900\n",
       "\n",
       "[584625 rows x 3 columns]"
      ]
     },
     "execution_count": 69,
     "metadata": {},
     "output_type": "execute_result"
    }
   ],
   "source": [
    "# 根据asset、date排序\n",
    "test_index = test_index.sort_values(['asset', 'date'])\n",
    "test_index['weight'] = test_predict\n",
    "test_index.sort_index()"
   ]
  },
  {
   "cell_type": "code",
   "execution_count": 70,
   "metadata": {
    "execution": {
     "iopub.execute_input": "2023-08-21T15:38:13.866255Z",
     "iopub.status.busy": "2023-08-21T15:38:13.865882Z",
     "iopub.status.idle": "2023-08-21T15:38:14.100332Z",
     "shell.execute_reply": "2023-08-21T15:38:14.099818Z",
     "shell.execute_reply.started": "2023-08-21T15:38:13.866232Z"
    },
    "scrolled": true
   },
   "outputs": [
    {
     "data": {
      "text/html": [
       "<div>\n",
       "<style scoped>\n",
       "    .dataframe tbody tr th:only-of-type {\n",
       "        vertical-align: middle;\n",
       "    }\n",
       "\n",
       "    .dataframe tbody tr th {\n",
       "        vertical-align: top;\n",
       "    }\n",
       "\n",
       "    .dataframe thead th {\n",
       "        text-align: right;\n",
       "    }\n",
       "</style>\n",
       "<table border=\"1\" class=\"dataframe\">\n",
       "  <thead>\n",
       "    <tr style=\"text-align: right;\">\n",
       "      <th></th>\n",
       "      <th>date</th>\n",
       "      <th>asset</th>\n",
       "      <th>weight</th>\n",
       "    </tr>\n",
       "  </thead>\n",
       "  <tbody>\n",
       "    <tr>\n",
       "      <th>0</th>\n",
       "      <td>20230103</td>\n",
       "      <td>000001.XSHE</td>\n",
       "      <td>0.000420</td>\n",
       "    </tr>\n",
       "    <tr>\n",
       "      <th>1</th>\n",
       "      <td>20230103</td>\n",
       "      <td>000002.XSHE</td>\n",
       "      <td>0.000196</td>\n",
       "    </tr>\n",
       "    <tr>\n",
       "      <th>2</th>\n",
       "      <td>20230103</td>\n",
       "      <td>000004.XSHE</td>\n",
       "      <td>0.000187</td>\n",
       "    </tr>\n",
       "    <tr>\n",
       "      <th>3</th>\n",
       "      <td>20230103</td>\n",
       "      <td>000005.XSHE</td>\n",
       "      <td>0.000058</td>\n",
       "    </tr>\n",
       "    <tr>\n",
       "      <th>4</th>\n",
       "      <td>20230103</td>\n",
       "      <td>000006.XSHE</td>\n",
       "      <td>0.000447</td>\n",
       "    </tr>\n",
       "    <tr>\n",
       "      <th>...</th>\n",
       "      <td>...</td>\n",
       "      <td>...</td>\n",
       "      <td>...</td>\n",
       "    </tr>\n",
       "    <tr>\n",
       "      <th>584620</th>\n",
       "      <td>20230630</td>\n",
       "      <td>688799.XSHG</td>\n",
       "      <td>0.000055</td>\n",
       "    </tr>\n",
       "    <tr>\n",
       "      <th>584621</th>\n",
       "      <td>20230630</td>\n",
       "      <td>688800.XSHG</td>\n",
       "      <td>0.000000</td>\n",
       "    </tr>\n",
       "    <tr>\n",
       "      <th>584622</th>\n",
       "      <td>20230630</td>\n",
       "      <td>688819.XSHG</td>\n",
       "      <td>0.000238</td>\n",
       "    </tr>\n",
       "    <tr>\n",
       "      <th>584623</th>\n",
       "      <td>20230630</td>\n",
       "      <td>688981.XSHG</td>\n",
       "      <td>0.000053</td>\n",
       "    </tr>\n",
       "    <tr>\n",
       "      <th>584624</th>\n",
       "      <td>20230630</td>\n",
       "      <td>689009.XSHG</td>\n",
       "      <td>0.000312</td>\n",
       "    </tr>\n",
       "  </tbody>\n",
       "</table>\n",
       "<p>584625 rows × 3 columns</p>\n",
       "</div>"
      ],
      "text/plain": [
       "            date        asset    weight\n",
       "0       20230103  000001.XSHE  0.000420\n",
       "1       20230103  000002.XSHE  0.000196\n",
       "2       20230103  000004.XSHE  0.000187\n",
       "3       20230103  000005.XSHE  0.000058\n",
       "4       20230103  000006.XSHE  0.000447\n",
       "...          ...          ...       ...\n",
       "584620  20230630  688799.XSHG  0.000055\n",
       "584621  20230630  688800.XSHG  0.000000\n",
       "584622  20230630  688819.XSHG  0.000238\n",
       "584623  20230630  688981.XSHG  0.000053\n",
       "584624  20230630  689009.XSHG  0.000312\n",
       "\n",
       "[584625 rows x 3 columns]"
      ]
     },
     "execution_count": 70,
     "metadata": {},
     "output_type": "execute_result"
    }
   ],
   "source": [
    "# 权重归一化\n",
    "to_normalize_groups = test_index.groupby('date')\n",
    "normalized_groups = []\n",
    "for name, group in to_normalize_groups:\n",
    "\n",
    "    group.loc[group['weight'] < 0, 'weight'] = 0\n",
    "    group['weight'] = group['weight'] / group['weight'].sum()\n",
    "\n",
    "    # 调整，以确保权重和在指定范围内\n",
    "    while True:\n",
    "        sum_normalized = group['weight'].sum()\n",
    "        if sum_normalized < 0.99999:\n",
    "            adjustment_factor = 0.99999 / sum_normalized\n",
    "            group['weight'] *= adjustment_factor\n",
    "        elif sum_normalized > 1.00001:\n",
    "            adjustment_factor = 1.00001 / sum_normalized\n",
    "            group['weight'] *= adjustment_factor\n",
    "        else:\n",
    "            break\n",
    "\n",
    "    normalized_groups.append(group)\n",
    "normalized_index = pd.concat(normalized_groups)\n",
    "normalized_index"
   ]
  },
  {
   "cell_type": "code",
   "execution_count": 71,
   "metadata": {
    "execution": {
     "iopub.execute_input": "2023-08-21T15:38:26.691860Z",
     "iopub.status.busy": "2023-08-21T15:38:26.691489Z",
     "iopub.status.idle": "2023-08-21T15:38:27.529228Z",
     "shell.execute_reply": "2023-08-21T15:38:27.528609Z",
     "shell.execute_reply.started": "2023-08-21T15:38:26.691836Z"
    },
    "scrolled": true
   },
   "outputs": [],
   "source": [
    "# 初赛预测\n",
    "normalized_index.to_csv('submit.csv', index=None)"
   ]
  },
  {
   "cell_type": "code",
   "execution_count": 117,
   "metadata": {
    "execution": {
     "iopub.execute_input": "2023-08-21T04:52:55.648854Z",
     "iopub.status.busy": "2023-08-21T04:52:55.648402Z",
     "iopub.status.idle": "2023-08-21T04:52:55.653924Z",
     "shell.execute_reply": "2023-08-21T04:52:55.653414Z",
     "shell.execute_reply.started": "2023-08-21T04:52:55.648825Z"
    },
    "scrolled": true
   },
   "outputs": [],
   "source": [
    "submit = normalized_index[normalized_index['date'] == 20230818].reset_index(drop=True)"
   ]
  },
  {
   "cell_type": "code",
   "execution_count": 118,
   "metadata": {
    "execution": {
     "iopub.execute_input": "2023-08-21T04:53:03.148936Z",
     "iopub.status.busy": "2023-08-21T04:53:03.148532Z",
     "iopub.status.idle": "2023-08-21T04:53:03.163892Z",
     "shell.execute_reply": "2023-08-21T04:53:03.163403Z",
     "shell.execute_reply.started": "2023-08-21T04:53:03.148913Z"
    },
    "scrolled": true
   },
   "outputs": [],
   "source": [
    "# 复赛预测\n",
    "submit.to_csv('submit.csv', index=None)"
   ]
  },
  {
   "cell_type": "code",
   "execution_count": 60,
   "metadata": {
    "execution": {
     "iopub.execute_input": "2023-08-21T03:02:51.092188Z",
     "iopub.status.busy": "2023-08-21T03:02:51.091705Z",
     "iopub.status.idle": "2023-08-21T03:02:51.707352Z",
     "shell.execute_reply": "2023-08-21T03:02:51.706665Z",
     "shell.execute_reply.started": "2023-08-21T03:02:51.092165Z"
    },
    "scrolled": true
   },
   "outputs": [
    {
     "name": "stdout",
     "output_type": "stream",
     "text": [
      "date,asset,weight\r\n",
      "20230103,000001.XSHE,0.0\r\n",
      "20230103,000002.XSHE,0.0\r\n",
      "20230103,000004.XSHE,0.00018924449\r\n",
      "20230103,000005.XSHE,0.0\r\n",
      "20230103,000006.XSHE,0.0\r\n",
      "20230103,000007.XSHE,0.0\r\n",
      "20230103,000008.XSHE,0.0\r\n",
      "20230103,000009.XSHE,0.0\r\n",
      "20230103,000010.XSHE,0.0\r\n"
     ]
    }
   ],
   "source": [
    "!head submit.csv"
   ]
  },
  {
   "cell_type": "code",
   "execution_count": null,
   "metadata": {
    "scrolled": true
   },
   "outputs": [],
   "source": []
  }
 ],
 "metadata": {
  "kernelspec": {
   "display_name": "Python 3",
   "language": "python",
   "name": "py35-paddle1.2.0"
  },
  "language_info": {
   "codemirror_mode": {
    "name": "ipython",
    "version": 3
   },
   "file_extension": ".py",
   "mimetype": "text/x-python",
   "name": "python",
   "nbconvert_exporter": "python",
   "pygments_lexer": "ipython3",
   "version": "3.10.10"
  }
 },
 "nbformat": 4,
 "nbformat_minor": 4
}
